{
 "cells": [
  {
   "cell_type": "code",
   "execution_count": 1,
   "id": "20ceffe7",
   "metadata": {},
   "outputs": [],
   "source": [
    "from pylab import *\n",
    "import Fluid_CP as FCP #calculation of  thermodynamic states\n",
    "import plotDiag_Th_Ts as Diag #plot Th diagram with heat sink and heat source\n",
    "from scipy.optimize import  minimize,NonlinearConstraint #optimization\n",
    "import Compressormodel_SP as CM\n",
    "import CoolProp.CoolProp as CP\n",
    "\n",
    "import heat_pump as hp"
   ]
  },
  {
   "cell_type": "code",
   "execution_count": 2,
   "id": "718bebb7",
   "metadata": {},
   "outputs": [],
   "source": [
    "nominal_Q = 3.5\n",
    "\n",
    "#refrigerant\n",
    "delta_T_sh=10. #K #superheating --> assumption\n",
    "delta_T_sc=5 #K #subcooling --> assumption\n",
    "fluid=\"Isobutane\"# ---> must be varied \n",
    "Eh=\"CBar\"\n",
    "\n",
    "#source\n",
    "fluid_so=\"air\"\n",
    "T_so_in=20. #°C\n",
    "T_so_out= T_so_in #°C -> parallel flow, same temperature in and out \n",
    "\n",
    "#sink\n",
    "fluid_si=\"water\"\n",
    "T_si_in=87 #°C\n",
    "T_si_out=87 #°C -> to be determined for every timestep\n",
    "\n",
    "#heat exchanger\n",
    "min_pinch=0.5 #K -> assumption\n",
    "\n",
    "tube_diameter = 6.38\n",
    "_D = 35 ##[35,40,45,50] #possible compressor sizes in mm"
   ]
  },
  {
   "cell_type": "code",
   "execution_count": 3,
   "id": "8e82ecd3",
   "metadata": {},
   "outputs": [
    {
     "name": "stdout",
     "output_type": "stream",
     "text": [
      "thermal resistance per meter during condensation in superheated state= 0.3116 mK/W\n"
     ]
    }
   ],
   "source": [
    "h_refVapLiq = 2000 #W/m^2/K\n",
    "h_refVap = 200 #W/m^2/K\n",
    "h_refLiq = 1000 #W/m^2/K\n",
    "stainless_lambda_steel = 15 #W/m/K\n",
    "d_i = 0.00635 #m\n",
    "d_out = 0.0055 #m\n",
    "h_water = 1000 #W/m^2/K\n",
    "d_w = 0.00635 - 0.0055 #m\n",
    "max_length_condenser = 60 #m\n",
    "\n",
    "#convective heat transfer inner tube wall\n",
    "R_L_h_refVap = hp.calc_RL_conv(h_refVap,d_i)\n",
    "#conductive heat transfer through wall\n",
    "R_L_lambda_w= hp.calc_RL_cond(stainless_lambda_steel,d_w,d_out,d_i)\n",
    "#convective heat transfer outer tube wall\n",
    "R_L_h_water= hp.calc_RL_conv(h_water,d_out)\n",
    "\n",
    "R_L_sh=R_L_h_refVap+R_L_lambda_w+R_L_h_water\n",
    "print(\"thermal resistance per meter during condensation in superheated state=\",round(R_L_sh,4),\"mK/W\")"
   ]
  },
  {
   "cell_type": "code",
   "execution_count": 7,
   "id": "7a89e7db",
   "metadata": {},
   "outputs": [
    {
     "ename": "NameError",
     "evalue": "name 'pi' is not defined",
     "output_type": "error",
     "traceback": [
      "\u001b[1;31m---------------------------------------------------------------------------\u001b[0m",
      "\u001b[1;31mNameError\u001b[0m                                 Traceback (most recent call last)",
      "Cell \u001b[1;32mIn[7], line 2\u001b[0m\n\u001b[0;32m      1\u001b[0m \u001b[38;5;66;03m#convective heat transfer inner tube wall\u001b[39;00m\n\u001b[1;32m----> 2\u001b[0m R_L_h_reflat\u001b[38;5;241m=\u001b[39m\u001b[43mhp\u001b[49m\u001b[38;5;241;43m.\u001b[39;49m\u001b[43mcalc_RL_conv\u001b[49m\u001b[43m(\u001b[49m\u001b[43mh_refVapLiq\u001b[49m\u001b[43m,\u001b[49m\u001b[43md_i\u001b[49m\u001b[43m)\u001b[49m\n\u001b[0;32m      4\u001b[0m R_L_lat\u001b[38;5;241m=\u001b[39mR_L_h_reflat\u001b[38;5;241m+\u001b[39mR_L_lambda_w\u001b[38;5;241m+\u001b[39mR_L_h_water\n\u001b[0;32m      5\u001b[0m \u001b[38;5;28mprint\u001b[39m(\u001b[38;5;124m\"\u001b[39m\u001b[38;5;124mthermal resistance per meter during latent=\u001b[39m\u001b[38;5;124m\"\u001b[39m,\u001b[38;5;28mround\u001b[39m(R_L_lat,\u001b[38;5;241m4\u001b[39m),\u001b[38;5;124m\"\u001b[39m\u001b[38;5;124mmK/W\u001b[39m\u001b[38;5;124m\"\u001b[39m)\n",
      "File \u001b[1;32mc:\\Users\\aless\\Documents\\Personal docs\\Studium\\Master Energy Science and Technology\\2. Semester\\Sustainable Heating and Cooling Technologies\\SHC_project\\heat_pump.py:194\u001b[0m, in \u001b[0;36mcalc_RL_conv\u001b[1;34m(h_transfer, d_tube_inner)\u001b[0m\n\u001b[0;32m    193\u001b[0m \u001b[38;5;28;01mdef\u001b[39;00m\u001b[38;5;250m \u001b[39m\u001b[38;5;21mcalc_RL_conv\u001b[39m(h_transfer,d_tube_inner):\n\u001b[1;32m--> 194\u001b[0m     R_L_conv\u001b[38;5;241m=\u001b[39m\u001b[38;5;241m1.\u001b[39m\u001b[38;5;241m/\u001b[39m(h_transfer\u001b[38;5;241m*\u001b[39m\u001b[43mpi\u001b[49m\u001b[38;5;241m*\u001b[39md_tube_inner) \u001b[38;5;66;03m#mK/W\u001b[39;00m\n\u001b[0;32m    195\u001b[0m     \u001b[38;5;28;01mreturn\u001b[39;00m R_L_conv\n",
      "\u001b[1;31mNameError\u001b[0m: name 'pi' is not defined"
     ]
    }
   ],
   "source": [
    "#convective heat transfer inner tube wall\n",
    "R_L_h_reflat=hp.calc_RL_conv(h_refVapLiq,d_i)\n",
    "\n",
    "R_L_lat=R_L_h_reflat+R_L_lambda_w+R_L_h_water\n",
    "print(\"thermal resistance per meter during latent=\",round(R_L_lat,4),\"mK/W\")\n",
    "\n",
    "#convective heat transfer inner tube wall\n",
    "R_L_h_refLiq=hp.calc_RL_conv(h_refLiq,d_i)\n",
    "\n",
    "R_L_sc=R_L_h_refLiq+R_L_lambda_w+R_L_h_water\n",
    "print(\"thermal resistance per meter during subcooling=\",round(R_L_sc,4),\"mK/W\")"
   ]
  },
  {
   "cell_type": "code",
   "execution_count": 2,
   "id": "08291633",
   "metadata": {},
   "outputs": [
    {
     "ename": "AttributeError",
     "evalue": "module 'heat_pump' has no attribute 'optimize'",
     "output_type": "error",
     "traceback": [
      "\u001b[1;31m---------------------------------------------------------------------------\u001b[0m",
      "\u001b[1;31mAttributeError\u001b[0m                            Traceback (most recent call last)",
      "Cell \u001b[1;32mIn[2], line 1\u001b[0m\n\u001b[1;32m----> 1\u001b[0m \u001b[43mhp\u001b[49m\u001b[38;5;241;43m.\u001b[39;49m\u001b[43moptimize\u001b[49m()\n",
      "\u001b[1;31mAttributeError\u001b[0m: module 'heat_pump' has no attribute 'optimize'"
     ]
    }
   ],
   "source": [
    "hp.optimize()"
   ]
  },
  {
   "cell_type": "code",
   "execution_count": null,
   "id": "c3f94cb1",
   "metadata": {},
   "outputs": [],
   "source": []
  }
 ],
 "metadata": {
  "kernelspec": {
   "display_name": "SHC",
   "language": "python",
   "name": "python3"
  },
  "language_info": {
   "codemirror_mode": {
    "name": "ipython",
    "version": 3
   },
   "file_extension": ".py",
   "mimetype": "text/x-python",
   "name": "python",
   "nbconvert_exporter": "python",
   "pygments_lexer": "ipython3",
   "version": "3.10.18"
  }
 },
 "nbformat": 4,
 "nbformat_minor": 5
}
