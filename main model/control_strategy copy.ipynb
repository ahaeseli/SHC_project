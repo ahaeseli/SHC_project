{
 "cells": [
  {
   "cell_type": "code",
   "execution_count": 1,
   "id": "6a1246ad",
   "metadata": {},
   "outputs": [],
   "source": [
    "import numpy as np\n",
    "from scipy.integrate import odeint\n",
    "import matplotlib.pyplot as plt\n",
    "from scipy.optimize import  minimize,NonlinearConstraint #optimization"
   ]
  },
  {
   "cell_type": "markdown",
   "id": "6e2655a8",
   "metadata": {},
   "source": [
    "### Fitting functions"
   ]
  },
  {
   "cell_type": "code",
   "execution_count": 2,
   "id": "820351ed",
   "metadata": {},
   "outputs": [],
   "source": [
    "# Functions and Definitions for Data fitting\n",
    "COP_DATA = []         \n",
    "COP_POLY_COEFFS = np.array([])  \n",
    "COP_POLY_DEGREE = 3   \n",
    "\n",
    "HEAT_POLY_COEFFS = np.array([])  # will store polynomial coefficients\n",
    "HEAT_POLY_DEGREE = 3             # adjust as needed\n",
    "\n",
    "def generate_heat_fit(heat_dict):\n",
    "    global HEAT_POLY_COEFFS\n",
    "\n",
    "    if not heat_dict:\n",
    "        raise ValueError(\"No heat data to fit.\")\n",
    "\n",
    "    # Sort by temperature\n",
    "    temps, heat_vals = zip(*sorted(heat_dict.items()))\n",
    "    \n",
    "    # Fit polynomial\n",
    "    HEAT_POLY_COEFFS = np.polyfit(temps, heat_vals, HEAT_POLY_DEGREE)\n",
    "\n",
    "\n",
    "def get_heat_from_fit(T):\n",
    "    if HEAT_POLY_COEFFS is None or len(HEAT_POLY_COEFFS) == 0:\n",
    "        raise RuntimeError(\"Heat polynomial fit has not been generated.\")\n",
    "    \n",
    "    return float(np.polyval(HEAT_POLY_COEFFS, T))\n",
    "\n",
    "\n",
    "def print_heat_fit_equation():\n",
    "    terms = [f\"{coef:.6g} * T^{HEAT_POLY_DEGREE - i}\" \n",
    "            for i, coef in enumerate(HEAT_POLY_COEFFS)]\n",
    "    equation = \" + \".join(terms)\n",
    "    print(\"Heat(T) ≈\", equation)\n",
    "\n",
    "\n",
    "\n",
    "def store_COP_data(param, T_si_in):\n",
    "    cop_val = 1. / calc_COP(param)  # invert reciprocal COP\n",
    "    COP_DATA.append((T_si_in, cop_val))\n",
    "    return 1. / cop_val\n",
    "\n",
    "def generate_COP_fit():\n",
    "    global COP_POLY_COEFFS\n",
    "    if not COP_DATA:\n",
    "        raise ValueError(\"No COP data to fit.\")\n",
    "    COP_DATA.sort(key=lambda x: x[0])\n",
    "    T_vals, cop_vals = zip(*COP_DATA)\n",
    "    COP_POLY_COEFFS = np.polyfit(T_vals, cop_vals, COP_POLY_DEGREE)\n",
    "\n",
    "def get_COP_from_fit(T_si_in):\n",
    "    if COP_POLY_COEFFS is None or len(COP_POLY_COEFFS) == 0:\n",
    "        raise RuntimeError(\"COP polynomial fit has not been generated.\")\n",
    "    return float(np.polyval(COP_POLY_COEFFS, T_si_in))\n",
    "\n",
    "def calc_COP(param): \n",
    "    hp_vals = HP(param)\n",
    "\n",
    "    state1 = hp_vals[\"state1\"]\n",
    "\n",
    "    state3= hp_vals[\"state3\"]\n",
    "\n",
    "    state2= hp_vals[\"state2\"]\n",
    "\n",
    "    #spec. heat released in the condenser\n",
    "    q_high=state2[\"h\"]-state3[\"h\"] #kJ/kg\n",
    "    #spec. compressor work\n",
    "    w_comp=state2[\"h\"]-state1[\"h\"]  #kJ/kg\n",
    "    #coefficient of performance \n",
    "\n",
    "    COP=q_high/w_comp\n",
    "    #return reciprocal value of COP\n",
    "    return 1./COP\n",
    "\n",
    "def print_COP_fit_equation():\n",
    "    if len(COP_POLY_COEFFS) == 0:\n",
    "        raise RuntimeError(\"Fit not generated yet.\")\n",
    "\n",
    "    terms = [f\"{coef:.6g} * T^{COP_POLY_DEGREE - i}\" \n",
    "        for i, coef in enumerate(COP_POLY_COEFFS)]\n",
    "    equation = \" + \".join(terms)\n",
    "    print(\"COP(T_si_in) ≈\", equation)\n"
   ]
  },
  {
   "cell_type": "markdown",
   "id": "30725c2f",
   "metadata": {},
   "source": [
    "### Reading in file with Heat and COP data for fitting"
   ]
  },
  {
   "cell_type": "code",
   "execution_count": 3,
   "id": "b9b9bedb",
   "metadata": {},
   "outputs": [],
   "source": [
    "#read in textfile\n",
    "\n",
    "def read_results_from_txt(filepath=\"heat_pump_results.txt\"):\n",
    "    results = {}\n",
    "    current_dia = None\n",
    "    current_fluid = None\n",
    "    mode = None\n",
    "\n",
    "    with open(filepath, \"r\") as f:\n",
    "        for line in f:\n",
    "            line = line.strip()\n",
    "            if not line:\n",
    "                continue\n",
    "\n",
    "            if line.startswith(\"DIA=\"):\n",
    "                parts = line.split(\", \")\n",
    "                current_dia = int(parts[0].split(\"=\")[1])\n",
    "                current_fluid = parts[1].split(\"=\")[1]\n",
    "\n",
    "                if current_dia not in results:\n",
    "                    results[current_dia] = {}\n",
    "\n",
    "                results[current_dia][current_fluid] = {\n",
    "                    \"COP_DATA\": [],\n",
    "                    \"HEAT_DATA\": {}\n",
    "                }\n",
    "\n",
    "            elif line == \"COP_DATA:\":\n",
    "                mode = \"COP_DATA\"\n",
    "\n",
    "            elif line == \"HEAT_DATA:\":\n",
    "                mode = \"HEAT_DATA\"\n",
    "\n",
    "            elif line == \"END_ENTRY\":\n",
    "                mode = None\n",
    "                current_dia = None\n",
    "                current_fluid = None\n",
    "\n",
    "            elif mode == \"COP_DATA\":\n",
    "                T, cop = map(float, line.split(\",\"))\n",
    "                results[current_dia][current_fluid][\"COP_DATA\"].append((T, cop))\n",
    "\n",
    "            elif mode == \"HEAT_DATA\":\n",
    "                T, Q = map(float, line.split(\",\"))\n",
    "                results[current_dia][current_fluid][\"HEAT_DATA\"][T] = Q\n",
    "\n",
    "    return results"
   ]
  },
  {
   "cell_type": "code",
   "execution_count": 4,
   "id": "fcfd850f",
   "metadata": {},
   "outputs": [],
   "source": [
    "results = read_results_from_txt(\"heat_pump_results.txt\")\n",
    "\n",
    "COP_DATA = []\n",
    "HEAT_DATA = {}\n",
    "\n",
    "COP_DATA = results[35]['DimethylEther']['COP_DATA']\n",
    "\n",
    "HEAT_DATA = results[35]['DimethylEther']['HEAT_DATA']"
   ]
  },
  {
   "cell_type": "code",
   "execution_count": 5,
   "id": "7c9a5a74",
   "metadata": {},
   "outputs": [],
   "source": [
    "generate_COP_fit() #generates fit for exactly these conditions: power, diameter, refrigerant\n",
    "generate_heat_fit(HEAT_DATA)"
   ]
  },
  {
   "cell_type": "code",
   "execution_count": 6,
   "id": "82fcd678",
   "metadata": {},
   "outputs": [
    {
     "data": {
      "image/png": "[encoded data removed]",
      "text/plain": [
       "<Figure size 640x480 with 1 Axes>"
      ]
     },
     "metadata": {},
     "output_type": "display_data"
    },
    {
     "data": {
      "image/png": "[encoded data removed]",
      "text/plain": [
       "<Figure size 640x480 with 1 Axes>"
      ]
     },
     "metadata": {},
     "output_type": "display_data"
    },
    {
     "name": "stdout",
     "output_type": "stream",
     "text": [
      "COP(T_si_in) ≈ -1.23408e-05 * T^3 + 0.00292165 * T^2 + -0.260766 * T^1 + 10.9347 * T^0\n",
      "Heat(T) ≈ 2.39387e-07 * T^3 + -0.000170109 * T^2 + -0.0464024 * T^1 + 12.2433 * T^0\n"
     ]
    }
   ],
   "source": [
    "    # Plotting the data points and the fit\n",
    "plt.scatter(*zip(*COP_DATA), label='Stored COP data')\n",
    "\n",
    "T_plot = np.linspace(20,93, 200)\n",
    "COP_fit_vals = [get_COP_from_fit(T) for T in T_plot]\n",
    "\n",
    "plt.plot(T_plot, COP_fit_vals, 'r-', label='Polynomial Fit (degree {})'.format(COP_POLY_DEGREE))\n",
    "plt.xlabel('T_si_in (°C)')\n",
    "plt.ylabel('COP')\n",
    "plt.title('COP Data and Polynomial Fit')\n",
    "plt.legend()\n",
    "plt.grid(True)\n",
    "plt.show()\n",
    "\n",
    "#plotting heat output data\n",
    "plt.scatter(*zip(*HEAT_DATA.items()), label='Stored Heat Output Data')\n",
    "T_heat_plot = np.linspace(20, 93, 200)\n",
    "heat_fit_vals = [get_heat_from_fit(T) for T in T_heat_plot]\n",
    "plt.plot(T_heat_plot, heat_fit_vals, 'r-', label='Heat Output Polynomial Fit (degree {})'.format(HEAT_POLY_DEGREE))\n",
    "plt.xlabel('T_si_in (°C)')\n",
    "plt.ylabel('Heat Output (kW)')\n",
    "plt.title('Heat Output Data and Polynomial Fit')\n",
    "plt.legend()\n",
    "plt.grid(True)\n",
    "plt.show()\n",
    "\n",
    "#print the equations for the fits\n",
    "\n",
    "    \n",
    "print_COP_fit_equation()\n",
    "print_heat_fit_equation()"
   ]
  },
  {
   "cell_type": "markdown",
   "id": "9edc3b29",
   "metadata": {},
   "source": [
    "## Control Strategy with heat-up included"
   ]
  },
  {
   "cell_type": "markdown",
   "id": "e006ec31",
   "metadata": {},
   "source": [
    "### Defining variables"
   ]
  },
  {
   "cell_type": "code",
   "execution_count": 7,
   "id": "973a56bb",
   "metadata": {},
   "outputs": [
    {
     "name": "stdout",
     "output_type": "stream",
     "text": [
      "24.543288000000004\n"
     ]
    }
   ],
   "source": [
    "# --- Global control variables ---\n",
    "HP = 1  # initial state of the heat pump: 1 = ON, 0 = OFF\n",
    "time = 0  # timer to record operating time\n",
    "\n",
    "# --- Constants and parameters ---\n",
    "R_env = 30 / 1000    # K/W£\n",
    "R_pasta = 15 / 1000  # K/W\n",
    "c_l = 4.18 * 1000    # J/kg·K water\n",
    "c_pasta = 3.5 * 1000 # J/kg·K pasta\n",
    "\n",
    "T_env = 20      # °C\n",
    "T_pasta_0 = 7        # °C\n",
    "rho_water = 997.     # kg/m3\n",
    "\n",
    "# --- Dimensions of the water tank ---\n",
    "V_water = (47 - 0.4) * (27 - 0.4) * (20 - 0.2) / 1000# L\n",
    "m_water = V_water / 1e3 * rho_water  # kg\n",
    "m_pasta = 2 # kg\n",
    "\n",
    "print(V_water)"
   ]
  },
  {
   "cell_type": "markdown",
   "id": "359abdc8",
   "metadata": {},
   "source": [
    "### Defining pasta cooking schedule "
   ]
  },
  {
   "cell_type": "code",
   "execution_count": 8,
   "id": "9229e5a9",
   "metadata": {},
   "outputs": [],
   "source": [
    "# --- Pasta batch schedule (7 min cook, 5 min break) ---\n",
    "# could also be adapted if a new schedule was needed\n",
    "def make_pasta_list(t):\n",
    "    #counter_heating = heating_up_time * 60  # convert to seconds\n",
    "    pasta_counter = 7 * 60\n",
    "    break_counter = 5 * 60\n",
    "    pasta_presence = np.zeros(len(t))\n",
    "    pasta_taking_out_times = np.zeros(len(t))\n",
    "    \n",
    "    for i in range(len(t)):\n",
    "        #if counter_heating > 0:\n",
    "            #counter_heating -= 1\n",
    "            #pasta_presence[i] = 0\n",
    "            #continue\n",
    "        if pasta_counter == 0:\n",
    "            pasta_taking_out_times[i] = 1\n",
    "        if pasta_counter > 0:\n",
    "            pasta_presence[i] = 1\n",
    "            pasta_counter -= 1\n",
    "        elif break_counter > 0:\n",
    "            pasta_presence[i] = 0\n",
    "            break_counter -= 1\n",
    "        else:\n",
    "            pasta_counter = 7 * 60 - 1\n",
    "            break_counter = 5 * 60\n",
    "            pasta_presence[i] = 1\n",
    "    return pasta_presence\n",
    "\n",
    "def make_pasta_starting_list(t):\n",
    "    pasta_counter = 7 * 60\n",
    "    break_counter = 5 * 60\n",
    "    pasta_presence = np.zeros(len(t))\n",
    "    pasta_taking_out_times = np.zeros(len(t))\n",
    "    #counter_heating = heating_up_time * 60  # convert to seconds\n",
    "    \n",
    "    for i in range(len(t)):\n",
    "        #if counter_heating > 0:\n",
    "            #counter_heating -= 1\n",
    "            #pasta_presence[i] = 0\n",
    "            #continue\n",
    "        if pasta_counter == 1:\n",
    "            pasta_taking_out_times[i] = 1\n",
    "        if pasta_counter > 0:\n",
    "            pasta_presence[i] = 1\n",
    "            pasta_counter -= 1\n",
    "        elif break_counter > 0:\n",
    "            pasta_presence[i] = 0\n",
    "            break_counter -= 1\n",
    "        else:\n",
    "            pasta_counter = 7 * 60 - 1\n",
    "            break_counter = 5 * 60\n",
    "            pasta_presence[i] = 1\n",
    "    return pasta_taking_out_times"
   ]
  },
  {
   "cell_type": "markdown",
   "id": "ee3b49ab",
   "metadata": {},
   "source": [
    "### Define heat pump control logic"
   ]
  },
  {
   "cell_type": "code",
   "execution_count": 9,
   "id": "b393ca7c",
   "metadata": {},
   "outputs": [],
   "source": [
    "# --- Heat pump control logic ---\n",
    "def calc_HP(T, T_on, T_off, op_times):\n",
    "    global HP, time\n",
    "\n",
    "    # time counts how long the heat pump operates for one operation\n",
    "    # HP signals if the heatpump is on or off\n",
    "\n",
    "    # If Temperature falls below minimal threshold value --> turn heat pump on\n",
    "    if T <= T_on: # Temperature is below T\n",
    "        if HP == 0:\n",
    "            time = 0\n",
    "        HP = 1\n",
    "\n",
    "    # If Temperature is above maximum threshold --> turn heat pump off\n",
    "    elif T >= T_off:\n",
    "        if HP == 1:\n",
    "            op_times.append(time)\n",
    "        HP = 0\n",
    "\n",
    "    # If the Heatpump is on, increase operation time and calculate heat output for the respective sink temperature with the fit\n",
    "    # Else output of the heatpump is zero at this timestel\n",
    "    if HP == 1:\n",
    "        time += 1\n",
    "        return get_heat_from_fit(T) * 1000\n",
    "    else:\n",
    "        return 0"
   ]
  },
  {
   "cell_type": "markdown",
   "id": "f341a145",
   "metadata": {},
   "source": [
    "### Define Temperature ODE's for system"
   ]
  },
  {
   "cell_type": "code",
   "execution_count": 10,
   "id": "313c731a",
   "metadata": {},
   "outputs": [],
   "source": [
    "# --- ODE for water only ---\n",
    "def temp_store_only_water(T_water, t, Q_WP, m_water, c_water):\n",
    "    dT_waterdt = (Q_WP - (T_water - T_env) / R_env) / (m_water * c_water)\n",
    "    return dT_waterdt\n",
    "\n",
    "# --- ODE for water + pasta ---\n",
    "def temp_store_with_pasta(T, t, Q_WP, m_water, m_pasta, c_water, c_pasta):\n",
    "    T_water, T_pasta = T\n",
    "    dT_waterdt = (Q_WP - (T_water - T_env) / R_env - (T_water - T_pasta) / R_pasta) / (m_water * c_water)\n",
    "    dT_pastadt = ((T_water - T_pasta) / R_pasta) / (m_pasta * c_pasta)\n",
    "    return [dT_waterdt, dT_pastadt]"
   ]
  },
  {
   "cell_type": "markdown",
   "id": "8040d70b",
   "metadata": {},
   "source": [
    "### Define the main simulation"
   ]
  },
  {
   "cell_type": "code",
   "execution_count": 11,
   "id": "6de022ca",
   "metadata": {},
   "outputs": [],
   "source": [
    "# --- Main simulation ---\n",
    "\n",
    "def T_water_and_pasta(T_WP_on, T_WP_off, duration_s,op_times, V_store=V_water):\n",
    "    t = np.linspace(0, duration_s, duration_s)\n",
    "    T_water = np.zeros(duration_s)\n",
    "    T_pasta = np.full(duration_s, T_pasta_0)\n",
    "    Q_WPs = np.zeros(duration_s)\n",
    "\n",
    "    T0_water = T_WP_on\n",
    "    T0_pasta = T_pasta_0\n",
    "    T_water[0] = T0_water\n",
    "    T_pasta[0] = T0_pasta\n",
    "\n",
    "    m_store = V_store / 1e3 * rho_water\n",
    "    m_pasta = 2  # kg\n",
    "\n",
    "    binary_pasta = make_pasta_list(t)\n",
    "\n",
    "    global WP, time\n",
    "    WP = 1\n",
    "    time = 0\n",
    "\n",
    "    for i in range(1, duration_s):\n",
    "        if binary_pasta[i] == 0:\n",
    "            tspan = [t[i - 1], t[i]]\n",
    "            z = odeint(temp_store_only_water, T0_water, tspan, args=(Q_WPs[i - 1], m_store, c_l))\n",
    "            T0_water = z[1][0]\n",
    "            T0_pasta = T_pasta_0\n",
    "        else:\n",
    "            tspan = np.linspace(t[i - 1], t[i], 10)\n",
    "            T_function = [T0_water, T0_pasta]\n",
    "            sol = odeint(temp_store_with_pasta, T_function, tspan, args=(Q_WPs[i - 1], m_store, m_pasta, c_l, c_pasta))\n",
    "            T0_water = sol[-1, 0]\n",
    "            T0_pasta = sol[-1, 1]\n",
    "\n",
    "        Q_WPs[i] = calc_HP(T0_water, T_WP_on, T_WP_off, op_times)\n",
    "        T_water[i] = T0_water\n",
    "        T_pasta[i] = T0_pasta\n",
    "\n",
    "    return t, Q_WPs, T_water, T_pasta\n"
   ]
  },
  {
   "cell_type": "markdown",
   "id": "53722719",
   "metadata": {},
   "source": [
    "### Running the simulation"
   ]
  },
  {
   "cell_type": "markdown",
   "id": "af72d4f5",
   "metadata": {},
   "source": [
    "#### Calculate additional time needed for heating up in the morning"
   ]
  },
  {
   "cell_type": "markdown",
   "id": "04cf93a4",
   "metadata": {},
   "source": [
    "#### Run simulation for the 12 hours of operation including the heating up time in the morning"
   ]
  },
  {
   "cell_type": "code",
   "execution_count": 15,
   "id": "4c1a2fb7",
   "metadata": {},
   "outputs": [
    {
     "name": "stdout",
     "output_type": "stream",
     "text": [
      "⚠️ Skipping T_on=85.0, T_off=89.0 due to error: 'float' object cannot be interpreted as an integer\n",
      "⚠️ Skipping T_on=85.0, T_off=90.0 due to error: 'float' object cannot be interpreted as an integer\n",
      "⚠️ Skipping T_on=85.0, T_off=91.0 due to error: 'float' object cannot be interpreted as an integer\n",
      "⚠️ Skipping T_on=85.0, T_off=92.0 due to error: 'float' object cannot be interpreted as an integer\n",
      "⚠️ Skipping T_on=85.0, T_off=93.0 due to error: 'float' object cannot be interpreted as an integer\n",
      "⚠️ Skipping T_on=86.0, T_off=89.0 due to error: 'float' object cannot be interpreted as an integer\n",
      "⚠️ Skipping T_on=86.0, T_off=90.0 due to error: 'float' object cannot be interpreted as an integer\n",
      "⚠️ Skipping T_on=86.0, T_off=91.0 due to error: 'float' object cannot be interpreted as an integer\n",
      "⚠️ Skipping T_on=86.0, T_off=92.0 due to error: 'float' object cannot be interpreted as an integer\n",
      "⚠️ Skipping T_on=86.0, T_off=93.0 due to error: 'float' object cannot be interpreted as an integer\n",
      "⚠️ Skipping T_on=87.0, T_off=89.0 due to error: 'float' object cannot be interpreted as an integer\n",
      "⚠️ Skipping T_on=87.0, T_off=90.0 due to error: 'float' object cannot be interpreted as an integer\n",
      "⚠️ Skipping T_on=87.0, T_off=91.0 due to error: 'float' object cannot be interpreted as an integer\n",
      "⚠️ Skipping T_on=87.0, T_off=92.0 due to error: 'float' object cannot be interpreted as an integer\n",
      "⚠️ Skipping T_on=87.0, T_off=93.0 due to error: 'float' object cannot be interpreted as an integer\n",
      "⚠️ Skipping T_on=88.0, T_off=89.0 due to error: 'float' object cannot be interpreted as an integer\n",
      "⚠️ Skipping T_on=88.0, T_off=90.0 due to error: 'float' object cannot be interpreted as an integer\n",
      "⚠️ Skipping T_on=88.0, T_off=91.0 due to error: 'float' object cannot be interpreted as an integer\n",
      "⚠️ Skipping T_on=88.0, T_off=92.0 due to error: 'float' object cannot be interpreted as an integer\n",
      "⚠️ Skipping T_on=88.0, T_off=93.0 due to error: 'float' object cannot be interpreted as an integer\n",
      "⚠️ Skipping T_on=89.0, T_off=89.0 due to error: 'float' object cannot be interpreted as an integer\n",
      "⚠️ Skipping T_on=89.0, T_off=90.0 due to error: 'float' object cannot be interpreted as an integer\n",
      "⚠️ Skipping T_on=89.0, T_off=91.0 due to error: 'float' object cannot be interpreted as an integer\n",
      "⚠️ Skipping T_on=89.0, T_off=92.0 due to error: 'float' object cannot be interpreted as an integer\n",
      "⚠️ Skipping T_on=89.0, T_off=93.0 due to error: 'float' object cannot be interpreted as an integer\n",
      "\n",
      "✅ Best Result:\n"
     ]
    },
    {
     "ename": "TypeError",
     "evalue": "'NoneType' object is not subscriptable",
     "output_type": "error",
     "traceback": [
      "\u001b[0;31m---------------------------------------------------------------------------\u001b[0m",
      "\u001b[0;31mTypeError\u001b[0m                                 Traceback (most recent call last)",
      "Cell \u001b[0;32mIn[15], line 96\u001b[0m\n\u001b[1;32m     94\u001b[0m \u001b[38;5;66;03m# Print the best result\u001b[39;00m\n\u001b[1;32m     95\u001b[0m \u001b[38;5;28mprint\u001b[39m(\u001b[38;5;124m\"\u001b[39m\u001b[38;5;130;01m\\n\u001b[39;00m\u001b[38;5;124m✅ Best Result:\u001b[39m\u001b[38;5;124m\"\u001b[39m)\n\u001b[0;32m---> 96\u001b[0m \u001b[38;5;28mprint\u001b[39m(\u001b[38;5;124mf\u001b[39m\u001b[38;5;124m\"\u001b[39m\u001b[38;5;124mT_on  = \u001b[39m\u001b[38;5;132;01m{\u001b[39;00mbest_result[\u001b[38;5;241m0\u001b[39m]\u001b[38;5;132;01m:\u001b[39;00m\u001b[38;5;124m.1f\u001b[39m\u001b[38;5;132;01m}\u001b[39;00m\u001b[38;5;124m °C\u001b[39m\u001b[38;5;124m\"\u001b[39m)\n\u001b[1;32m     97\u001b[0m \u001b[38;5;28mprint\u001b[39m(\u001b[38;5;124mf\u001b[39m\u001b[38;5;124m\"\u001b[39m\u001b[38;5;124mT_off = \u001b[39m\u001b[38;5;132;01m{\u001b[39;00mbest_result[\u001b[38;5;241m1\u001b[39m]\u001b[38;5;132;01m:\u001b[39;00m\u001b[38;5;124m.1f\u001b[39m\u001b[38;5;132;01m}\u001b[39;00m\u001b[38;5;124m °C\u001b[39m\u001b[38;5;124m\"\u001b[39m)\n\u001b[1;32m     98\u001b[0m \u001b[38;5;28mprint\u001b[39m(\u001b[38;5;124mf\u001b[39m\u001b[38;5;124m\"\u001b[39m\u001b[38;5;124mTotal Heat Pump Power = \u001b[39m\u001b[38;5;132;01m{\u001b[39;00mbest_obj\u001b[38;5;132;01m:\u001b[39;00m\u001b[38;5;124m.2f\u001b[39m\u001b[38;5;132;01m}\u001b[39;00m\u001b[38;5;124m kWh\u001b[39m\u001b[38;5;124m\"\u001b[39m)\n",
      "\u001b[0;31mTypeError\u001b[0m: 'NoneType' object is not subscriptable"
     ]
    }
   ],
   "source": [
    "\n",
    "\n",
    "global V_water, duration_seconds, m_water, m_pasta, T_WP_on, T_WP_off, binary_pasta, binary_taking_out_pasta, start_index\n",
    "duration_seconds = 12 * 60 * 60  # 12 hours\n",
    "start_index = 0\n",
    "\n",
    "t = np.linspace(0, duration_seconds, 1) # time vector in seconds\n",
    "\n",
    "binary_pasta = make_pasta_list(t)\n",
    "binary_taking_out_pasta = make_pasta_starting_list(t)\n",
    "\n",
    "bounds=[(85,92),(86,93)] #(T_on_min,T_on_max), (T_off_min, T_off_max)\n",
    "\n",
    "# Constraint: water temperature minimum >= 85°C\n",
    "def water_temp_min_constraint(x):\n",
    "    T_WP_on, T_WP_off = x\n",
    "    _, _, T_water, _, _ = T_water_and_pasta(T_WP_on, T_WP_off, duration_seconds,[])\n",
    "    return np.min(T_water)\n",
    "\n",
    "# Constraint: water temperature maximum <= 93°C\n",
    "def water_temp_max_constraint(x):\n",
    "    T_WP_on, T_WP_off = x\n",
    "    _, _, T_water, _, _ = T_water_and_pasta(T_WP_on, T_WP_off, duration_seconds,[])\n",
    "    return np.max(T_water)\n",
    "def pasta_temp_at_cycle_ends_constraint(x):\n",
    "    T_WP_on, T_WP_off = x\n",
    "    _, _, _, T_pasta, _ = T_water_and_pasta(T_WP_on, T_WP_off, duration_seconds,[])\n",
    "    \n",
    "    # Find cycle end indices from the global binary list\n",
    "    cycle_end_indices = np.where(binary_taking_out_pasta == 1)[0]\n",
    "    \n",
    "    # Get pasta temps at cycle ends\n",
    "    pasta_temps_at_ends = T_pasta[cycle_end_indices]\n",
    "    \n",
    "    return pasta_temps_at_ends\n",
    "\n",
    "\n",
    "# Define nonlinear constraints\n",
    "nlc_min = NonlinearConstraint(water_temp_min_constraint, 85, 93)\n",
    "nlc_max = NonlinearConstraint(water_temp_max_constraint, 85, 93)\n",
    "nlc_pasta_min = NonlinearConstraint(pasta_temp_at_cycle_ends_constraint, 85, np.inf)\n",
    "nlc_pasta_max = NonlinearConstraint(pasta_temp_at_cycle_ends_constraint, -np.inf, 86)\n",
    "\n",
    "constraints = [nlc_min, nlc_max, nlc_pasta_min, nlc_pasta_max]\n",
    "\n",
    "# Initial guess and bounds\n",
    "x0 = [87, 92]\n",
    "\n",
    "\n",
    "def objective(x):\n",
    "    T_WP_on, T_WP_off = x\n",
    "    global WP, time\n",
    "    WP = 0\n",
    "    time = 0\n",
    "    op_times = []\n",
    "    t, Q_WP, T_water, _, _ = T_water_and_pasta(\n",
    "        T_WP_on, T_WP_off, V_water, duration_seconds, op_times\n",
    "    )\n",
    "\n",
    "    # Avoid divide-by-zero by setting min COP to a small positive value\n",
    "    power_consumption = []\n",
    "    for i in range(len(Q_WP)):\n",
    "        if Q_WP[i] > 0:\n",
    "            cop = max(get_COP_from_fit(T_water[i]), 0.01)\n",
    "            power = Q_WP[i] / (cop * 1000)  # Convert to kW\n",
    "        else:\n",
    "            power = 0\n",
    "        power_consumption.append(power)\n",
    "\n",
    "    total_power = np.sum(power_consumption)\n",
    "    print(f\"Objective call: T_on={T_WP_on:.2f}, T_off={T_WP_off:.2f}, Total Power={total_power:.2f} kWh\")\n",
    "    return total_power\n",
    "\n",
    "\n",
    "# --- Brute-force grid search instead of SLSQP optimization ---\n",
    "T_on_vals = np.arange(85, 89.25, 1)\n",
    "T_off_vals = np.arange(89, 93.25, 1)\n",
    "\n",
    "best_result = None\n",
    "best_obj = float('inf')\n",
    "\n",
    "\n",
    "for T_on in T_on_vals:\n",
    "    for T_off in T_off_vals:\n",
    "        try:\n",
    "            obj = objective([T_on, T_off])\n",
    "            print(f\"Checked T_on={T_on:.1f}, T_off={T_off:.1f} → Power={obj:.2f} kWh\")\n",
    "            if obj < best_obj:\n",
    "                best_obj = obj\n",
    "                best_result = (T_on, T_off)\n",
    "        except Exception as e:\n",
    "            print(f\"⚠️ Skipping T_on={T_on:.1f}, T_off={T_off:.1f} due to error: {e}\")\n",
    "\n",
    "\n",
    "\n",
    "# Print the best result\n",
    "print(\"\\n✅ Best Result:\")\n",
    "print(f\"T_on  = {best_result[0]:.1f} °C\")\n",
    "print(f\"T_off = {best_result[1]:.1f} °C\")\n",
    "print(f\"Total Heat Pump Power = {best_obj:.2f} kWh\")\n",
    "\n",
    "\n"
   ]
  },
  {
   "cell_type": "code",
   "execution_count": 22,
   "id": "4b183a0f",
   "metadata": {},
   "outputs": [
    {
     "ename": "TypeError",
     "evalue": "cannot unpack non-iterable NoneType object",
     "output_type": "error",
     "traceback": [
      "\u001b[0;31m---------------------------------------------------------------------------\u001b[0m",
      "\u001b[0;31mTypeError\u001b[0m                                 Traceback (most recent call last)",
      "Cell \u001b[0;32mIn[22], line 2\u001b[0m\n\u001b[1;32m      1\u001b[0m \u001b[38;5;66;03m# --- Plot results using the best found T_on and T_off ---\u001b[39;00m\n\u001b[0;32m----> 2\u001b[0m T_WP_on, T_WP_off \u001b[38;5;241m=\u001b[39m best_result\n\u001b[1;32m      4\u001b[0m \u001b[38;5;66;03m# Run simulation with best parameters\u001b[39;00m\n\u001b[1;32m      5\u001b[0m op_times \u001b[38;5;241m=\u001b[39m []\n",
      "\u001b[0;31mTypeError\u001b[0m: cannot unpack non-iterable NoneType object"
     ]
    }
   ],
   "source": [
    "# --- Plot results using the best found T_on and T_off ---\n",
    "T_WP_on, T_WP_off = best_result\n",
    "\n",
    "# Run simulation with best parameters\n",
    "op_times = []\n",
    "t, Q_WPs, T_water, T_pasta, start_index = T_water_and_pasta(\n",
    "    T_WP_on, T_WP_off, V_water, duration_seconds, op_times, m_water, m_pasta\n",
    ")\n",
    "\n",
    "# --- Plot results ---\n",
    "fig, (ax1, ax2, ax3) = plt.subplots(3, sharex=True, figsize=(20, 10))\n",
    "ax1.plot(t / 60, T_water, 'r-', label='T_water [°C]')\n",
    "if start_index:\n",
    "    ax1.axvline(t[start_index] / 60, color='blue', linestyle='--', label='Start of Cooking')\n",
    "ax1.set_ylabel('T_water [°C]')\n",
    "ax1.legend()\n",
    "ax2.plot(t / 60, Q_WPs / 1000, 'g-', label='Q_HP [kW]')\n",
    "ax2.set_xlabel('Time [minutes]')\n",
    "ax2.set_ylabel('Heat Pump Power [kW]')\n",
    "ax2.legend()\n",
    "ax3.plot(t / 60, T_pasta, 'b-', label='T_pasta [°C]')\n",
    "ax3.set_ylabel('T_pasta [°C]')\n",
    "ax3.legend()\n",
    "\n",
    "plt.tight_layout()\n",
    "plt.show()\n",
    "\n",
    "# --- Compute and show summary ---\n",
    "min_op = round(min(op_times) / 60., 2) if op_times else 0\n",
    "max_op = round(max(op_times) / 60., 2) if op_times else 0\n",
    "num_cycles = len(op_times)\n",
    "heatup_time_min = round(t[start_index] / 60, 2) if start_index else \"N/A\"\n",
    "total_duration = duration_seconds / 60 / 60 \n",
    "\n",
    "print(\"Time until cooking starts (heat-up) =\", heatup_time_min, \"minutes\")\n",
    "print(\"Min operating time =\", min_op, \"minutes\")\n",
    "print(\"Max operating time =\", max_op, \"minutes\")\n",
    "print(\"Number of heat pump on-cycles =\", num_cycles)\n",
    "print(\"total_duration =\", total_duration, \"hours\")\n",
    "print(\"Max T_water after heat-up:\", max(T_water[start_index:]))\n",
    "print(\"Min T_water after heat-up:\", min(T_water[start_index:]))\n"
   ]
  },
  {
   "cell_type": "code",
   "execution_count": 58,
   "id": "f8904276",
   "metadata": {},
   "outputs": [
    {
     "data": {
      "image/png": "[encoded data removed]",
      "text/plain": [
       "<Figure size 1200x500 with 1 Axes>"
      ]
     },
     "metadata": {},
     "output_type": "display_data"
    }
   ],
   "source": [
    "import matplotlib.pyplot as plt\n",
    "import numpy as np\n",
    "\n",
    "# Limit to the first 24 minutes\n",
    "time_limit_minutes = 24\n",
    "time_limit_seconds = time_limit_minutes * 60\n",
    "\n",
    "# Create a mask for time ≤ 24 minutes\n",
    "mask = t <= time_limit_seconds\n",
    "\n",
    "# Apply the mask to time and temperature arrays\n",
    "t_limited = t[mask]\n",
    "T_pasta_limited = T_pasta[mask]\n",
    "\n",
    "plt.figure(figsize=(12, 5))\n",
    "plt.plot(t_limited / 60, T_pasta_limited, 'b-', label='T_pasta [°C]')\n",
    "plt.xlabel('Time [minutes]')\n",
    "plt.ylabel('T_pasta [°C]')\n",
    "plt.title('Pasta Temperature Over First 24 Minutes')\n",
    "plt.grid(True)\n",
    "plt.legend()\n",
    "\n",
    "# Set y-axis ticks at 85 and 90 °C\n",
    "plt.yticks([85, 90])\n",
    "\n",
    "plt.tight_layout()\n",
    "plt.show()\n",
    "\n",
    "\n"
   ]
  },
  {
   "cell_type": "code",
   "execution_count": 42,
   "id": "e2fd94c4",
   "metadata": {},
   "outputs": [
    {
     "name": "stdout",
     "output_type": "stream",
     "text": [
      "85.5979659867059\n",
      "[(20.866666666666667, 85.00526900912746), (20.883333333333333, 85.037498758046), (20.9, 85.069837255541), (20.916666666666668, 85.10228297897119), (20.933333333333334, 85.13483442157207), (20.95, 85.16749009229385), (20.966666666666665, 85.2002485156411), (20.983333333333334, 85.23310823151398), (21.0, 85.26606779505111), (21.016666666666666, 85.299125776474), (21.033333333333335, 85.3322807609331), (21.05, 85.36553134835543), (21.066666666666666, 85.39887615329374), (21.083333333333332, 85.43231380477724), (21.1, 85.46584294616378), (21.116666666666667, 85.4994622349936), (21.133333333333333, 85.53284602954132), (21.15, 85.56567872817325), (21.166666666666668, 85.5979659867059), (32.983333333333334, 85.00954162146344), (33.0, 85.03859645178508), (33.016666666666666, 85.06779536053276), (33.03333333333333, 85.09713646238072), (33.05, 85.12661789157838), (33.06666666666667, 85.15623780175055), (33.083333333333336, 85.18599436569966), (33.1, 85.21588577521015), (33.11666666666667, 85.24591024085481), (33.13333333333333, 85.276065991803), (33.15, 85.30635127563089), (33.166666666666664, 85.33676435813364), (45.03333333333333, 85.02297932132034), (45.05, 85.05100782427583), (45.06666666666667, 85.07919170970311), (45.083333333333336, 85.10752897632605), (45.1, 85.13601764362599), (45.11666666666667, 85.16465575162985), (45.13333333333333, 85.19344136070062), (45.15, 85.22237255132974), (45.166666666666664, 85.25144742393185), (57.016666666666666, 85.00835662744113), (57.03333333333333, 85.03653961639773), (57.05, 85.06487640781246), (57.06666666666667, 85.0933650165199), (57.083333333333336, 85.12200347794771), (57.1, 85.15078984790676), (57.11666666666667, 85.17972220238293), (57.13333333333333, 85.2087986373315), (57.15, 85.23801726847307), (57.166666666666664, 85.26737623109227), (69.03333333333333, 85.0116565245099), (69.05, 85.03939932399243), (69.06666666666666, 85.06730079791099), (69.08333333333333, 85.09535891110755), (69.1, 85.1235716495272), (69.11666666666666, 85.15193702000252), (69.13333333333334, 85.1804530500408), (69.15, 85.20911778761274), (69.16666666666667, 85.23792930094397), (81.01666666666667, 85.00075804917346), (81.03333333333333, 85.02861841762194), (81.05, 85.05663625584843), (81.06666666666666, 85.08480954098012), (81.08333333333333, 85.11313627112197), (81.1, 85.1416144651427), (81.11666666666666, 85.17024216246281), (81.13333333333334, 85.19901742284499), (81.15, 85.22793832618653), (81.16666666666667, 85.2570029723139), (93.01666666666667, 85.01375494176972), (93.03333333333333, 85.04194359025716), (93.05, 85.07028592610148), (93.06666666666666, 85.09877996535961), (93.08333333333333, 85.12742374466924), (93.1, 85.15621532103872), (93.11666666666666, 85.1851527716393), (93.13333333333334, 85.2142341935994), (93.15, 85.24345770380098), (93.16666666666667, 85.272821438678), (105.03333333333333, 85.01802119488688), (105.05, 85.04576912143324), (105.06666666666666, 85.073675603934), (105.08333333333333, 85.10173860849557), (105.1, 85.12995612231444), (105.11666666666666, 85.15832615346197), (105.13333333333334, 85.18684673067138), (105.15, 85.2155159031269), (105.16666666666667, 85.24433174025526), (117.03333333333333, 85.00239686498215), (117.05, 85.03014407081439), (117.06666666666666, 85.05804999127135), (117.08333333333333, 85.08611259071267), (117.1, 85.11432985460584), (117.11666666666666, 85.14269978931101), (117.13333333333334, 85.17122042186756), (117.15, 85.19988979978345), (117.16666666666667, 85.22870599082611), (129.05, 85.00839685269672), (129.06666666666666, 85.03569169894764), (129.08333333333334, 85.06315024130187), (129.1, 85.09077039302295), (129.11666666666667, 85.11855008900324), (129.13333333333333, 85.14648728554344), (129.15, 85.17457996013412), (129.16666666666666, 85.20282611123949), (141.05, 85.02548338079507), (141.06666666666666, 85.0530999039278), (141.08333333333334, 85.08087637492217), (141.1, 85.10881074565106), (141.11666666666667, 85.1369009892225), (141.13333333333333, 85.16514509976322), (141.15, 85.19354109220377), (141.16666666666666, 85.22208700206671), (153.03333333333333, 85.0166657992647), (153.05, 85.04440621737764), (153.06666666666666, 85.07230528815826), (153.08333333333334, 85.10036097670996), (153.1, 85.12857126923626), (153.11666666666667, 85.15693417282576), (153.13333333333333, 85.18544771523901), (153.15, 85.21410994469746), (153.16666666666666, 85.2429189296748), (165.03333333333333, 85.00105448418707), (165.05, 85.02880232818379), (165.06666666666666, 85.05670889263835), (165.08333333333334, 85.08477214184026), (165.1, 85.11299006118784), (165.11666666666667, 85.1413606569725), (165.13333333333333, 85.16988195616598), (165.15, 85.19855200620893), (165.16666666666666, 85.22736887480217), (177.05, 85.00760471278653), (177.06666666666666, 85.03489993437674), (177.08333333333334, 85.06235885552553), (177.1, 85.08997938945504), (177.11666666666667, 85.11775947101668), (177.13333333333333, 85.14569705647042), (177.15, 85.17379012326677), (177.16666666666666, 85.20203666982997), (189.05, 85.02502090735413), (189.06666666666666, 85.05263765113263), (189.08333333333334, 85.0804143447736), (189.1, 85.10834894012591), (189.11666666666667, 85.13643941027404), (189.13333333333333, 85.16468374932089), (189.15, 85.19307997217392), (189.16666666666666, 85.22162611433242), (201.03333333333333, 85.01640040431276), (201.05, 85.04414094860051), (201.06666666666666, 85.07204014670921), (201.08333333333334, 85.10009596372836), (201.1, 85.12830638584776), (201.11666666666667, 85.15666942014253), (201.13333333333333, 85.18518309435972), (201.15, 85.2138454567075), (201.16666666666666, 85.24265457564653), (213.01666666666668, 85.00335755799854), (213.03333333333333, 85.03126863390796), (213.05, 85.05933658964281), (213.06666666666666, 85.08755940840652), (213.08333333333334, 85.11593509431846), (213.1, 85.14446167220018), (213.11666666666667, 85.1731371873645), (213.13333333333333, 85.20195970540624), (213.15, 85.23092731199529), (213.16666666666666, 85.26003811267192), (225.03333333333333, 85.01638105073421), (225.05, 85.04440474066594), (225.06666666666666, 85.07258393030968), (225.08333333333334, 85.10091661713601), (225.1, 85.12940081938554), (225.11666666666667, 85.15803457585726), (225.13333333333333, 85.18681594569885), (225.15, 85.21574300819867), (225.16666666666666, 85.24481386258083), (237.01666666666668, 85.0016176850169), (237.03333333333333, 85.02980388730018), (237.05, 85.05814392122319), (237.06666666666666, 85.08663580126999), (237.08333333333334, 85.11527756252143), (237.1, 85.14406726044513), (237.11666666666667, 85.17300297068718), (237.13333333333333, 85.20208278886666), (237.15, 85.23130483037137), (237.16666666666666, 85.26066723015644), (249.03333333333333, 85.0053528331338), (249.05, 85.0330986337377), (249.06666666666666, 85.06100313612126), (249.08333333333334, 85.08906430479819), (249.1, 85.11728012538872), (249.11666666666667, 85.14564860440393), (249.13333333333333, 85.17416776903266), (249.15, 85.20283566693092), (249.16666666666666, 85.23165036601239), (261.03333333333336, 85.022114844451), (261.05, 85.05017884886827), (261.06666666666666, 85.07839784859823), (261.0833333333333, 85.1067698463329), (261.1, 85.13529286548143), (261.1166666666667, 85.16396494995838), (261.1333333333333, 85.19278416397471), (261.15, 85.22174859183083), (261.1666666666667, 85.25085633771126), (273.01666666666665, 85.0103119400316), (273.03333333333336, 85.03849399674428), (273.05, 85.0668298474466), (273.06666666666666, 85.09531750707491), (273.0833333333333, 85.12395501115755), (273.1, 85.15274041560505), (273.1166666666667, 85.18167179650172), (273.1333333333333, 85.2107472499006), (273.15, 85.23996489161875), (273.1666666666667, 85.26932285703641), (285.03333333333336, 85.01294971512414), (285.05, 85.04069189988157), (285.06666666666666, 85.06859275345487), (285.0833333333333, 85.09665024075342), (285.1, 85.12486234778912), (285.1166666666667, 85.15322708146056), (285.1333333333333, 85.18174246934052), (285.15, 85.21040655946442), (285.1666666666667, 85.23921742012195), (297.01666666666665, 85.00127378161856), (297.03333333333336, 85.02918584555621), (297.05, 85.0572547984034), (297.06666666666666, 85.08547862325499), (297.0833333333333, 85.1138553241221), (297.1, 85.14238292571969), (297.1166666666667, 85.17105947325479), (297.1333333333333, 85.19988303221764), (297.15, 85.22885168817491), (297.1666666666667, 85.25796354656424), (309.01666666666665, 85.01762202275891), (309.03333333333336, 85.04580882695451), (309.05, 85.07414930176442), (309.06666666666666, 85.1026414634468), (309.0833333333333, 85.13128334883828), (309.1, 85.16007301514422), (309.1166666666667, 85.18900853973079), (309.1333333333333, 85.21808801991929), (309.15, 85.2473095727828), (309.1666666666667, 85.27667133494407), (321.03333333333336, 85.02042943045127), (321.05, 85.0481762118862), (321.06666666666666, 85.07608153881282), (321.0833333333333, 85.10414337746326), (321.1, 85.13235971515823), (321.1166666666667, 85.16072856009215), (321.1333333333333, 85.18924794111989), (321.15, 85.21791590754624), (321.1666666666667, 85.24673052891727), (333.03333333333336, 85.00391015311529), (333.05, 85.03165663956091), (333.06666666666666, 85.05956183405513), (333.0833333333333, 85.08762370103675), (333.1, 85.11584022605113), (333.1166666666667, 85.14420941553588), (333.1333333333333, 85.17272929660685), (333.15, 85.20139791684758), (333.1666666666667, 85.23021334410069), (345.03333333333336, 85.0212459553658), (345.05, 85.04931037565825), (345.06666666666666, 85.07752979500849), (345.0833333333333, 85.10590221606375), (345.1, 85.13442566218845), (345.1166666666667, 85.16309817725309), (345.1333333333333, 85.19191782542514), (345.15, 85.22088269096155), (345.1666666666667, 85.24999087800438), (357.01666666666665, 85.0097902157108), (357.03333333333336, 85.03797252119435), (357.05, 85.06630862292697), (357.06666666666666, 85.09479653581768), (357.0833333333333, 85.12343429536796), (357.1, 85.15221995746188), (357.1166666666667, 85.18115159815746), (357.1333333333333, 85.21022731348152), (357.15, 85.23944521922562), (357.1666666666667, 85.26880345074419), (369.03333333333336, 85.01263826875753), (369.05, 85.04038060157808), (369.06666666666666, 85.06828160456779), (369.0833333333333, 85.09633924261992), (369.1, 85.12455150173031), (369.1166666666667, 85.1529163887816), (369.1333333333333, 85.18143193133078), (369.15, 85.21009617739763), (369.1666666666667, 85.23890719525643), (381.01666666666665, 85.00108921577892), (381.03333333333336, 85.02900136722968), (381.05, 85.05707040839475), (381.06666666666666, 85.08529432235896), (381.0833333333333, 85.11367111312411), (381.1, 85.14219880539564), (381.1166666666667, 85.1708754443714), (381.1333333333333, 85.19969909553234), (381.15, 85.22866784443568), (381.1666666666667, 85.25777979651018), (393.01666666666665, 85.01751410035645), (393.03333333333336, 85.04570095602456), (393.05, 85.07404148277432), (393.06666666666666, 85.10253369685813), (393.0833333333333, 85.13117563510708), (393.1, 85.159965354721), (393.1166666666667, 85.18890093306076), (393.1333333333333, 85.21798046744229), (393.15, 85.24720207493307), (393.1666666666667, 85.27656389215079), (405.03333333333336, 85.0203676357266), (405.05, 85.04811444654635), (405.06666666666666, 85.07601980312634), (405.0833333333333, 85.10408167169538), (405.1, 85.13229803957094), (405.1166666666667, 85.16066691494437), (405.1333333333333, 85.18918632666735), (405.15, 85.21785432404167), (405.1666666666667, 85.24666897661022), (417.03333333333336, 85.00387594101666), (417.05, 85.03162244372734), (417.06666666666666, 85.05952765463536), (417.0833333333333, 85.08758953817751), (417.1, 85.11580607989762), (417.1166666666667, 85.14417528623122), (417.1333333333333, 85.17269518429278), (417.15, 85.2013638216642), (417.1666666666667, 85.23017926618606), (429.03333333333336, 85.02122817030998), (429.05, 85.04929259911562), (429.06666666666666, 85.07751202705576), (429.0833333333333, 85.10588445677648), (429.1, 85.13440791164157), (429.1166666666667, 85.1630804355204), (429.1333333333333, 85.19190009257976), (429.15, 85.2208649670757), (429.1666666666667, 85.24997316314915), (441.01666666666665, 85.00978214790051), (441.03333333333336, 85.03796445723158), (441.05, 85.06630056284666), (441.06666666666666, 85.09478847965444), (441.0833333333333, 85.12342624315596), (441.1, 85.1522119092347), (441.1166666666667, 85.18114355394835), (441.1333333333333, 85.21021927332326), (441.15, 85.23943718315074), (441.1666666666667, 85.26879541878495), (453.03333333333336, 85.01263588311602), (453.05, 85.04037821707126), (453.06666666666666, 85.06827922120621), (453.0833333333333, 85.09633686041383), (453.1, 85.12454912068961), (453.1166666666667, 85.15291400891638), (453.1333333333333, 85.18142955265075), (453.15, 85.21009379991273), (453.1666666666667, 85.23890481897635), (465.01666666666665, 85.00109005626994), (465.03333333333336, 85.02900220732272), (465.05, 85.0570712480861), (465.06666666666666, 85.08529516164512), (465.0833333333333, 85.1136719520015), (465.1, 85.14219964386079), (465.1166666666667, 85.1708762824207), (465.1333333333333, 85.19969993316215), (465.15, 85.2286686816427), (465.1666666666667, 85.25778063329106), (477.01666666666665, 85.01751672645754), (477.03333333333336, 85.04570358087368), (477.05, 85.07404410636013), (477.06666666666666, 85.10253631916927), (477.0833333333333, 85.13117825613266), (477.1, 85.15996797444998), (477.1166666666667, 85.18890355148234), (477.1333333333333, 85.21798308454565), (477.15, 85.2472046907076), (477.1666666666667, 85.2765665065861), (489.03333333333336, 85.02037118996189), (489.05, 85.04811799909216), (489.06666666666666, 85.07602335396707), (489.0833333333333, 85.10408522081583), (489.1, 85.13230158695613), (489.1166666666667, 85.16067046057931), (489.1333333333333, 85.1891898705374), (489.15, 85.21785786613216), (489.1666666666667, 85.24667251690681), (501.03333333333336, 85.00387988786922), (501.05, 85.031626388704), (501.06666666666666, 85.05953159771896), (501.0833333333333, 85.08759347935109), (501.1, 85.11581001914453), (501.1166666666667, 85.14417922353499), (501.1333333333333, 85.17269911963703), (501.15, 85.20136775503266), (501.1666666666667, 85.2301831975628), (513.0333333333333, 85.02123220986519), (513.05, 85.04929663673781), (513.0666666666667, 85.07751606272753), (513.0833333333334, 85.10588849048055), (513.1, 85.13441194336096), (513.1166666666667, 85.16308446523854), (513.1333333333333, 85.19190412027987), (513.15, 85.22086899274137), (513.1666666666666, 85.24997718676418), (525.0166666666667, 85.00978613453381), (525.0333333333333, 85.03796844196454), (525.05, 85.06630454566196), (525.0666666666667, 85.09479246053489), (525.0833333333334, 85.12343022208462), (525.1, 85.15221588619502), (525.1166666666667, 85.18114752892396), (525.1333333333333, 85.21022324629797), (525.15, 85.23944115410833), (525.1666666666666, 85.2687993877095), (537.0333333333333, 85.01263973532373), (537.05, 85.04038206744805), (537.0666666666667, 85.06828306973522), (537.0833333333334, 85.0963407070786), (537.1, 85.12455296547374), (537.1166666666667, 85.15291785180374), (537.1333333333333, 85.18143339362547), (537.15, 85.210097638959), (537.1666666666666, 85.23890865607859), (549.0166666666667, 85.00109372186625), (549.0333333333333, 85.02900587118148), (549.05, 85.05707491019122), (549.0666666666667, 85.08529882198081), (549.0833333333334, 85.11367561055215), (549.1, 85.14220330061097), (549.1166666666667, 85.17087993735505), (549.1333333333333, 85.19970358626591), (549.15, 85.22867233290077), (549.1666666666666, 85.25778428268897), (561.0166666666667, 85.01752019454116), (561.0333333333333, 85.04570704730364), (561.05, 85.07404757112137), (561.0666666666667, 85.10253978224705), (561.0833333333334, 85.1311817175122), (561.1, 85.15997143411687), (561.1166666666667, 85.18890700942224), (561.1333333333333, 85.21798654074438), (561.15, 85.24720814515116), (561.1666666666666, 85.2765699592609), (573.0333333333333, 85.0203744619758), (573.05, 85.04812126955039), (573.0666666666667, 85.07602662285554), (573.0833333333334, 85.10408848812034), (573.1, 85.13230485266293), (573.1166666666667, 85.16067372467467), (573.1333333333333, 85.18919313300762), (573.15, 85.21786112696392), (573.1666666666666, 85.24667577608703), (585.0333333333333, 85.00388295297749), (585.05, 85.03162945235547), (585.0666666666667, 85.05953465990032), (585.0833333333334, 85.0875965400492), (585.1, 85.11581307834616), (585.1166666666667, 85.14418228122743), (585.1333333333333, 85.17270217580763), (585.15, 85.20137080966879), (585.1666666666666, 85.23018625065203), (597.0333333333333, 85.02123507321946), (597.05, 85.04929949872182), (597.0666666666667, 85.07751892332892), (597.0833333333334, 85.10589134968725), (597.1, 85.13441480116086), (597.1166666666667, 85.16308732161954), (597.1333333333333, 85.1919069752303), (597.15, 85.22087184624966), (597.1666666666666, 85.24998003881879), (609.0166666666667, 85.0097888195287), (609.0333333333333, 85.03797112567946), (609.05, 85.06630722808521), (609.0666666666667, 85.09479514165501), (609.0833333333334, 85.12343290189024), (609.1, 85.15221856467487), (609.1166666666667, 85.18115020606702), (609.1333333333333, 85.21022592209324), (609.15, 85.23944382854506), (609.1666666666666, 85.26880206077708), (621.0333333333333, 85.01264225839913), (621.05, 85.04038458932413), (621.0666666666667, 85.06828559040108), (621.0833333333334, 85.0963432265234), (621.1, 85.12455548368695), (621.1166666666667, 85.15292036877467), (621.1333333333333, 85.18143590934365), (621.15, 85.21010015341396), (621.1666666666666, 85.2389111692601), (633.0166666666667, 85.00109608977213), (633.0333333333333, 85.02900823796477), (633.05, 85.05707727584159), (633.0666666666667, 85.08530118648802), (633.0833333333334, 85.11367797390622), (633.1, 85.14220566280187), (633.1166666666667, 85.17088229837316), (633.1333333333333, 85.19970594610123), (633.15, 85.22867469154404), (633.1666666666666, 85.25778664013032), (645.0166666666667, 85.01752242289031), (645.0333333333333, 85.04570927458995), (645.05, 85.07404979733529), (645.0666666666667, 85.10254200737918), (645.0833333333334, 85.13118394155298), (645.1, 85.15997365705714), (645.1166666666667, 85.18890923125271), (645.1333333333333, 85.21798876145614), (645.15, 85.2472103647353), (645.1666666666666, 85.27657217770819), (657.0333333333333, 85.0203765641689), (657.05, 85.04812337074407), (657.0666666666667, 85.07602872304075), (657.0833333333334, 85.10409058728816), (657.1, 85.13230695080428), (657.1166666666667, 85.16067582178067), (657.1333333333333, 85.18919522906977), (657.15, 85.21786322197364), (657.1666666666666, 85.2466778700357), (669.0333333333333, 85.00388492844793), (669.05, 85.03163142688688), (669.0666666666667, 85.0595366334841), (669.0833333333334, 85.08759851267682), (669.1, 85.11581505000933), (669.1166666666667, 85.1441842519178), (669.1333333333333, 85.17270414551706), (669.15, 85.20137277838926), (669.1666666666666, 85.2301882183756), (681.0333333333333, 85.02123692805625), (681.05, 85.04930135267092), (681.0666666666667, 85.0775207763824), (681.0833333333334, 85.10589320183736), (681.1, 85.13441665239974), (681.1166666666667, 85.1630891719395), (681.1333333333333, 85.1919088246237), (681.15, 85.22087369470893), (681.1666666666666, 85.24998188633664), (693.0166666666667, 85.00979056977667), (693.0333333333333, 85.03797287509289), (693.05, 85.06630897665644), (693.0666666666667, 85.09479688937677), (693.0833333333334, 85.12343464875526), (693.1, 85.15222031067574), (693.1166666666667, 85.18115195119638), (693.1333333333333, 85.21022766634405), (693.15, 85.23944557191025), (693.1666666666666, 85.2688038032497), (705.0333333333333, 85.01264391450822), (705.05, 85.0403862446462), (705.0666666666667, 85.06828724492863), (705.0833333333334, 85.0963448802494), (705.1, 85.12455713660437), (705.1166666666667, 85.15292202087664), (705.1333333333333, 85.1814375606234), (705.15, 85.21010180386479), (705.1666666666666, 85.23891281887535), (717.0166666666667, 85.00109765524402), (717.0333333333333, 85.02900980269459), (717.05, 85.05707883982264), (717.0666666666667, 85.08530274971329), (717.0833333333334, 85.11367953636925), (717.1, 85.142207224496), (717.1166666666667, 85.1708838592918), (717.1333333333333, 85.19970750623816), (717.15, 85.22867625089266), (717.1666666666666, 85.25778819868461)]\n"
     ]
    }
   ],
   "source": [
    "#print pasta peaks\n",
    "print(max(T_pasta))\n",
    "pasta_peaks = [(i/60,T_pasta[i]) for i in range(len(T_pasta)) if T_pasta[i] > 85]\n",
    "\n",
    "print(pasta_peaks)"
   ]
  },
  {
   "cell_type": "code",
   "execution_count": null,
   "id": "075e7595",
   "metadata": {},
   "outputs": [
    {
     "name": "stdout",
     "output_type": "stream",
     "text": [
      "Pasta taking out times (in minutes):\n"
     ]
    }
   ],
   "source": [
    "#print time of pasta taking out\n",
    "print(\"Pasta taking out times (in minutes):\")\n"
   ]
  },
  {
   "cell_type": "code",
   "execution_count": null,
   "id": "6ff967e1",
   "metadata": {},
   "outputs": [],
   "source": []
  }
 ],
 "metadata": {
  "kernelspec": {
   "display_name": "heating_and_cooling",
   "language": "python",
   "name": "python3"
  },
  "language_info": {
   "codemirror_mode": {
    "name": "ipython",
    "version": 3
   },
   "file_extension": ".py",
   "mimetype": "text/x-python",
   "name": "python",
   "nbconvert_exporter": "python",
   "pygments_lexer": "ipython3",
   "version": "3.10.18"
  }
 },
 "nbformat": 4,
 "nbformat_minor": 5
}
