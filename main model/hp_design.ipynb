{
 "cells": [
  {
   "cell_type": "code",
   "execution_count": null,
   "id": "d63ecb9e",
   "metadata": {},
   "outputs": [],
   "source": [
    "import numpy as np\n",
    "import matplotlib.pyplot as plt\n",
    "import Fluid_CP as FCP #calculation of  thermodynamic states\n",
    "import plotDiag_Th_Ts as Diag #plot Th diagram with heat sink and heat source\n",
    "from scipy.optimize import  minimize,NonlinearConstraint #optimization\n",
    "import Compressormodel_SP as CM\n",
    "import CoolProp.CoolProp as CP\n",
    "from scipy.integrate import odeint"
   ]
  }
 ],
 "metadata": {
  "language_info": {
   "name": "python"
  }
 },
 "nbformat": 4,
 "nbformat_minor": 5
}
