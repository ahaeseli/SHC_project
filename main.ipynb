{
 "cells": [
  {
   "cell_type": "code",
   "execution_count": 3,
   "id": "5b6852d8",
   "metadata": {},
   "outputs": [],
   "source": [
    "# imports\n",
    "\n",
    "import numpy as np\n",
    "import pandas as pd\n",
    "import matplotlib.pyplot as plt\n",
    "import CoolProp.CoolProp as CP \n",
    "import Fluid_CP as FCP\n",
    "import Compressormodel_SP as CSP\n",
    "from pylab import *\n",
    "import plotDiag_Th_Ts as Diag #plot Th diagram with heat sink and heat source\n",
    "from scipy.optimize import  minimize,NonlinearConstraint #optimization"
   ]
  },
  {
   "cell_type": "markdown",
   "id": "b75b8308",
   "metadata": {},
   "source": [
    "**Assumptions**\n",
    "\n",
    "- water basin and pasta can be modelled as 0D --> no temperature gradients inside water and pasta\n",
    "\n",
    "- temperatures and pressure dependency of the properties of water and the pasta can be neglected\n",
    "\n",
    "- subcritical heat pump process\n",
    "\n",
    "- The pasta water is the heat sink\n",
    "\n",
    "- Make sure the heat pump meets usual technical constraints (e.g., superheating) and is \n",
    "in COP-optimal operation at each point in time. \n"
   ]
  },
  {
   "cell_type": "code",
   "execution_count": 5,
   "id": "4f21f58d",
   "metadata": {},
   "outputs": [],
   "source": [
    "# parameters\n",
    "\n",
    "## basin geometry\n",
    "\n",
    "\n",
    "\n",
    "## cooking pasta\n",
    "\n",
    "Tw_morning = 20 #degree Celsius\n",
    "\n",
    "Tp_before = 7 #degree celsius\n",
    "\n",
    "P_batch = 2 # kg --> 0.5 kg per basket\n",
    "\n",
    "tc = 7 #minutes --> pasta is cooked for 7 minutes per batch\n",
    "\n",
    "Tp_after = 85 #degree celsius\n",
    "\n",
    "tb = 5 #minutes --> time between cooking batches\n",
    "\n",
    "Tw_op_min = 85 #degree celsius --> minimal temperature during cooking\n",
    "\n",
    "Tw_op_max = 93 #degree celsius --> maximal temperature during cooking\n",
    "\n",
    "## other\n",
    "\n",
    "R_env_w = 30 #K/kW --> evaporation of the cooking  water is neglected\n",
    "\n",
    "R_p_w = 15 #K/kW \n",
    "\n",
    "c_pw = 4.18 #kj/kgK\n",
    "\n",
    "c_pp = 3.5 #kj/kgK\n",
    "\n",
    "## heatpump process\n",
    "\n",
    "Tamb = 20 #degree celsius --> air temperature in cross flow\n",
    "\n",
    "## compressor\n",
    "\n",
    "D = [35,40,45,50] #possible compressor sizes in mm\n",
    "\n",
    "## Heat exchanger\n",
    "\n",
    "d_outer = 6.35 #mm\n",
    "\n",
    "d_inner = 5.55 #mm\n",
    "\n",
    "## Heat transfer coefficients\n",
    "\n",
    "h_r_li = 1000 #W/(m^2*K)\n",
    "\n",
    "h_r_2ph = 2000 #W/(m^2*K)\n",
    "\n",
    "h_r_va = 200 #W/(m^2*K)\n",
    "\n",
    "h_w = 1000 #W/(m^2*K)\n",
    "\n",
    "\n",
    "#refrigerant\n",
    "delta_T_sh=10. #K #superheating\n",
    "delta_T_sc=5. #K #subcooling\n",
    "eta_is=0.52 # -------> to be changed, calculate with given function\n",
    "fluid=\"R1234yf\" #-----> find best refrigerant\n",
    "Eh=\"CBar\"\n",
    "\n",
    "#source\n",
    "fluid_so=\"air\" \n",
    "T_so_in= 20 #°C ---->\n",
    "T_so_out= 20 #°C\n",
    "\n",
    "#sink\n",
    "fluid_si=\"water\"\n",
    "T_si_in= 85. #°C ----> different for every timestep\n",
    "T_si_out= 93. #°C ----> different for every timestep\n",
    "\n",
    "#heat exchanger\n",
    "min_pinch=0.5 #K ------> good? I'd say so\n"
   ]
  },
  {
   "cell_type": "markdown",
   "id": "a78f094b",
   "metadata": {},
   "source": [
    "### COP Calculation"
   ]
  },
  {
   "cell_type": "code",
   "execution_count": 6,
   "id": "326f3d96",
   "metadata": {},
   "outputs": [],
   "source": [
    "# empirical calculation of resulting heatpump COP\n",
    "\n",
    "def COP_res(COP_inner, Q_demand, Q_heatpump):\n",
    "    ### call the function that fits the COPs\n",
    "    return COP_inner * ((Q_demand / Q_heatpump) / 0.9*(Q_demand / Q_heatpump) + 0.1)\n",
    "\n"
   ]
  },
  {
   "cell_type": "markdown",
   "id": "7e32ffbf",
   "metadata": {},
   "source": [
    "### Calculate COP"
   ]
  },
  {
   "cell_type": "code",
   "execution_count": 7,
   "id": "93283909",
   "metadata": {},
   "outputs": [],
   "source": [
    "def calc_COP(param):\n",
    "    T_co,T_ev=param\n",
    "    #thermodynamic states of the heat pump process\n",
    "    #state 1*: evaporator: T1=T_ev and x1=1.0 (saturated vapor)\n",
    "    state1_sat=FCP.state([\"T\",\"x\"],[T_ev,1.0],fluid,Eh)\n",
    "    #state 1: outlet evaporator: T1=T_ev+delta_T_sh and p1=p1_sat\n",
    "    if delta_T_sh>0.:\n",
    "        state1=FCP.state([\"T\",\"p\"],[T_ev+delta_T_sh,state1_sat[\"p\"]],fluid,Eh)\n",
    "    else:\n",
    "        state1=state1_sat\n",
    "\n",
    "    #state 3*: outlet condenser: T3=T_co and x3=0.0 (boiling liquid)\n",
    "    state3_sat=FCP.state([\"T\",\"x\"],[T_co,0.0],fluid,Eh)\n",
    "    #state 3: outlet condenser: T3=T_co-delta_T_sc and p3=p3_stat\n",
    "    state3=FCP.state([\"T\",\"p\"],[T_co-delta_T_sc,state3_sat[\"p\"]],fluid,Eh)\n",
    "    \n",
    "    #state 2s: isentropic compressor: p2s=p_co=p3 and s2s=s1 \n",
    "    state2s=FCP.state([\"p\",\"s\"],[state3[\"p\"],state1[\"s\"]],fluid,Eh)\n",
    "    #enthalpy h2 is calulated using the compressor efficiency eta_is\n",
    "    h2=state1[\"h\"]+(state2s[\"h\"]-state1[\"h\"])/eta_is\n",
    "    #state 2: outlet compressor: p2=p_co=p3 and h2\n",
    "    state2=FCP.state([\"p\",\"h\"],[state3[\"p\"],h2],fluid,Eh)\n",
    "\n",
    "    #state 4: outlet throttle: p4=p_ev=p1 and h4=h3 (isenthalpic throttle)\n",
    "    state4=FCP.state([\"p\",\"h\"],[state1[\"p\"],state3[\"h\"]],fluid,Eh)\n",
    "\n",
    "    #spec. heat released in the condenser\n",
    "    q_high=state2[\"h\"]-state3[\"h\"] #kJ/kg\n",
    "    #spec. compressor work\n",
    "    w_comp=state2[\"h\"]-state1[\"h\"]  #kJ/kg\n",
    "    #coefficient of performance \n",
    "    COP=q_high/w_comp\n",
    "    #return reciprocal value of COP\n",
    "    return 1./COP"
   ]
  },
  {
   "cell_type": "markdown",
   "id": "abf63215",
   "metadata": {},
   "source": [
    "### Pinch Points "
   ]
  },
  {
   "cell_type": "code",
   "execution_count": 8,
   "id": "f8e902f7",
   "metadata": {},
   "outputs": [],
   "source": [
    "def pinch_evap(param):\n",
    "    T_co,T_ev=param\n",
    "    #thermodynamic states of the heat pump process\n",
    "    #state 1*: evaporator: T1=T_ev and x1=1.0 (saturated vapor)\n",
    "    state1_sat=FCP.state([\"T\",\"x\"],[T_ev,1.0],fluid,Eh)\n",
    "    #state 1: outlet evaporator: T1=T_ev+delta_T_sh and p1=p1_sat\n",
    "    if delta_T_sh>0.:\n",
    "        state1=FCP.state([\"T\",\"p\"],[T_ev+delta_T_sh,state1_sat[\"p\"]],fluid,Eh)\n",
    "    else:\n",
    "        state1=state1_sat\n",
    "    \n",
    "    #state 3*: outlet condenser: T3=T_co and x3=0.0 (boiling liquid)\n",
    "    state3_sat=FCP.state([\"T\",\"x\"],[T_co,0.0],fluid,Eh)\n",
    "    #state 3: outlet condenser: T3=T_co-delta_T_sc and p3=p3_stat\n",
    "    state3=FCP.state([\"T\",\"p\"],[T_co-delta_T_sc,state3_sat[\"p\"]],fluid,Eh)\n",
    "    \n",
    "    #state 2s: isentropic compressor: p2s=p_co=p3 and s2s=s1 \n",
    "    state2s=FCP.state([\"p\",\"s\"],[state3[\"p\"],state1[\"s\"]],fluid,Eh)\n",
    "    #enthalpy h2 is calulated using the compressor efficiency eta_is\n",
    "    h2=state1[\"h\"]+(state2s[\"h\"]-state1[\"h\"])/eta_is\n",
    "    #state 2: outlet compressor: p2=p_co=p3 and h2\n",
    "    state2=FCP.state([\"p\",\"h\"],[state3[\"p\"],h2],fluid,Eh)\n",
    "    #state 4: outlet throttle: p4=p_ev=p1 and h4=h3 (isenthalpic throttle)\n",
    "    state4=FCP.state([\"p\",\"h\"],[state1[\"p\"],state3[\"h\"]],fluid,Eh)\n",
    "    \n",
    "    ##### Evaporator outlet\n",
    "    #The temperature difference at the outlet of the evaporator *delta_T_out_ev* is the difference \n",
    "    #between the inlet temperature of the source *T_so_in* and the outlet temperature of the refrigerant *T_1*.\n",
    "    delta_T_out_ev=T_so_in-state1[\"T\"]\n",
    "    \n",
    "    ##### Evaporator inlet\n",
    "    #The temperature difference at the inlet of the evaporator *delta_T_in_ev* is the difference \n",
    "    #between the outlet temperature of the source *T_so_out* and the inlet temperature of the refrigerant *T_4*. \n",
    "    delta_T_in_ev=T_so_out-state4[\"T\"]\n",
    "    \n",
    "    #return the values at inlet and outlet as a vector\n",
    "    return [delta_T_in_ev,delta_T_out_ev]"
   ]
  },
  {
   "cell_type": "markdown",
   "id": "5dc0874e",
   "metadata": {},
   "source": [
    "### Pinch points condenser (in- , outlet or dew line refrigerant)"
   ]
  },
  {
   "cell_type": "code",
   "execution_count": 9,
   "id": "a0bd8db2",
   "metadata": {},
   "outputs": [],
   "source": [
    "def pinch_con(param):\n",
    "    T_co,T_ev=param\n",
    "    #thermodynamic states of the heat pump process\n",
    "    #state 1*: evaporator: T1=T_ev and x1=1.0 (saturated vapor)\n",
    "    state1_sat=FCP.state([\"T\",\"x\"],[T_ev,1.0],fluid,Eh)\n",
    "    #state 1: outlet evaporator: T1=T_ev+delta_T_sh and p1=p1_sat\n",
    "    if delta_T_sh>0.:\n",
    "        state1=FCP.state([\"T\",\"p\"],[T_ev+delta_T_sh,state1_sat[\"p\"]],fluid,Eh)\n",
    "    else:\n",
    "        state1=state1_sat\n",
    "    \n",
    "    #state 3*: outlet condenser: T3=T_co and x3=0.0 (boiling liquid)\n",
    "    state3_sat=FCP.state([\"T\",\"x\"],[T_co,0.0],fluid,Eh)\n",
    "    #state 3: outlet condenser: T3=T_co-delta_T_sc and p3=p3_stat\n",
    "    state3=FCP.state([\"T\",\"p\"],[T_co-delta_T_sc,state3_sat[\"p\"]],fluid,Eh)\n",
    "    \n",
    "    #state 2s: isentropic compressor: p2s=p_co=p3 and s2s=s1 \n",
    "    state2s=FCP.state([\"p\",\"s\"],[state3[\"p\"],state1[\"s\"]],fluid,Eh)\n",
    "    #enthalpy h2 is calulated using the compressor efficiency eta_is\n",
    "    h2=state1[\"h\"]+(state2s[\"h\"]-state1[\"h\"])/eta_is\n",
    "    #state 2: outlet compressor: p2=p_co=p3 and h2\n",
    "    state2=FCP.state([\"p\",\"h\"],[state3[\"p\"],h2],fluid,Eh)\n",
    "    \n",
    "    ##### Condenser outlet \n",
    "    #The temperature difference at the outlet of the condenser *delta_T_out_co* is the difference \n",
    "    #between the outlet temperature of the refrigerant *T_3* and the inlet temperature of the sink *T_si_in*.\n",
    "    delta_T_out_co=state3[\"T\"]-T_si_in\n",
    "\n",
    "    ##### Condenser inlet\n",
    "    #The temperature difference at the inlet of the condenser *delta_T_in_co* is the difference \n",
    "    #between the inlet temperature of the refrigerant *T_2* and the outlet temperature of the sink *T_si_out*.\n",
    "    delta_T_in_co=state2[\"T\"]-T_si_out\n",
    "    \n",
    "    ##### Dew line condenser (refrigerant)\n",
    "    #The temperature difference at the inside of the condenser *delta_T_inside_co* is the difference between the condenser\n",
    "    #temperature *T_con* and the temperature of the heat sink at the dew line of the refrigerant *T_si_inside*.\n",
    "    \n",
    "    #enthalpy of the refrigerant at the inlet/outlet of the condenser\n",
    "    h_out_co=state3[\"h\"]\n",
    "    h_in_co=state2[\"h\"]\n",
    "    #enthalpy of saturated vapor at T_co and p_co: h_sat_Tco\n",
    "    h_sat_Tco=FCP.state([\"T\",\"x\"],[T_co,1.0],fluid,Eh)[\"h\"]\n",
    "\n",
    "    #Enthalpies of heat sink \n",
    "    h_si_in=FCP.state([\"T\",\"p\"],[T_si_in,1.0],fluid_si,Eh)[\"h\"]\n",
    "    h_si_out=FCP.state([\"T\",\"p\"],[T_si_out,1.0],fluid_si,Eh)[\"h\"]\n",
    "\n",
    "    #State of the heat sink at the point the refrigerant passes the dew line\n",
    "    h_si_inside=h_si_out-(h_si_out-h_si_in)/(state2[\"h\"]-state3[\"h\"])*(state2[\"h\"]-h_sat_Tco)\n",
    "    T_si_inside=FCP.state([\"p\",\"h\"],[1.0,h_si_inside],fluid_si,Eh)[\"T\"]\n",
    "    #temperature difference\n",
    "    delta_T_inside_co=T_co-T_si_inside\n",
    "    \n",
    "    #return the values at inlet, outlet, and dew line as a vector\n",
    "    return [delta_T_in_co,delta_T_out_co,delta_T_inside_co]\n"
   ]
  },
  {
   "cell_type": "markdown",
   "id": "a1d3949e",
   "metadata": {},
   "source": [
    "## Optimization"
   ]
  },
  {
   "cell_type": "code",
   "execution_count": 10,
   "id": "07f1feca",
   "metadata": {},
   "outputs": [],
   "source": [
    "#Syntax: bounds=[(T_co_min, T_co_max), (T_ev_min, T_ev_max)]\n",
    "#Define appropriate bounds\n",
    "bounds=[(T_si_in,50.),(-15.,T_so_in)] #(T_co_min, T_co_max), (T_ev_min, T_ev_max)"
   ]
  },
  {
   "cell_type": "markdown",
   "id": "1d44c801",
   "metadata": {},
   "source": [
    "### Constraints"
   ]
  },
  {
   "cell_type": "code",
   "execution_count": 11,
   "id": "aab47e40",
   "metadata": {},
   "outputs": [],
   "source": [
    "#For a function funct with three return values, nonlinear constaints are defined as follows:\n",
    "#Syntax: NC1=NonlinearConstraint(func, [min_1,min_2,min_3],[max_1,max_2, max_3])\n",
    "#Define the nonlinear constaints for the approach temperatures: NC1, NC2\n",
    "NC1=NonlinearConstraint(pinch_evap, [min_pinch,min_pinch],[np.inf,np.inf])\n",
    "NC2=NonlinearConstraint(pinch_con, [min_pinch,min_pinch,min_pinch],[np.inf,np.inf,np.inf])\n",
    "#All constraints can be combined into a tuple\n",
    "#Syntax:  NCs=(NC1, NC2,....)\n",
    "NCs=(NC1,NC2)"
   ]
  },
  {
   "cell_type": "markdown",
   "id": "23f4430f",
   "metadata": {},
   "source": [
    "### Starting the optimization"
   ]
  },
  {
   "cell_type": "code",
   "execution_count": 12,
   "id": "80b8e36f",
   "metadata": {},
   "outputs": [
    {
     "ename": "NameError",
     "evalue": "name 'CP' is not defined",
     "output_type": "error",
     "traceback": [
      "\u001b[0;31m---------------------------------------------------------------------------\u001b[0m",
      "\u001b[0;31mNameError\u001b[0m                                 Traceback (most recent call last)",
      "Cell \u001b[0;32mIn[12], line 5\u001b[0m\n\u001b[1;32m      3\u001b[0m T_ev_start\u001b[38;5;241m=\u001b[39m\u001b[38;5;241m-\u001b[39m\u001b[38;5;241m5.\u001b[39m \u001b[38;5;66;03m#°C\u001b[39;00m\n\u001b[1;32m      4\u001b[0m \u001b[38;5;66;03m#Use minimize to optimize the COP\u001b[39;00m\n\u001b[0;32m----> 5\u001b[0m Opti\u001b[38;5;241m=\u001b[39m\u001b[43mminimize\u001b[49m\u001b[43m(\u001b[49m\u001b[43mcalc_COP\u001b[49m\u001b[43m,\u001b[49m\u001b[43mx0\u001b[49m\u001b[38;5;241;43m=\u001b[39;49m\u001b[43m[\u001b[49m\u001b[43mT_co_start\u001b[49m\u001b[43m,\u001b[49m\u001b[43mT_ev_start\u001b[49m\u001b[43m]\u001b[49m\u001b[43m,\u001b[49m\u001b[43mmethod\u001b[49m\u001b[38;5;241;43m=\u001b[39;49m\u001b[38;5;124;43m'\u001b[39;49m\u001b[38;5;124;43mSLSQP\u001b[39;49m\u001b[38;5;124;43m'\u001b[39;49m\u001b[43m,\u001b[49m\u001b[43mbounds\u001b[49m\u001b[38;5;241;43m=\u001b[39;49m\u001b[43mbounds\u001b[49m\u001b[43m,\u001b[49m\u001b[43mconstraints\u001b[49m\u001b[38;5;241;43m=\u001b[39;49m\u001b[43mNCs\u001b[49m\u001b[43m)\u001b[49m\n\u001b[1;32m      6\u001b[0m \u001b[38;5;66;03m#Check if the optimization terminated successfull and print the COP\u001b[39;00m\n\u001b[1;32m      7\u001b[0m \u001b[38;5;28mprint\u001b[39m(\u001b[38;5;124m\"\u001b[39m\u001b[38;5;124mSuccess optimization=\u001b[39m\u001b[38;5;124m\"\u001b[39m,Opti\u001b[38;5;241m.\u001b[39msuccess)\n",
      "File \u001b[0;32m~/opt/miniconda3/envs/heating_and_cooling/lib/python3.10/site-packages/scipy/optimize/_minimize.py:665\u001b[0m, in \u001b[0;36mminimize\u001b[0;34m(fun, x0, args, method, jac, hess, hessp, bounds, constraints, tol, callback, options)\u001b[0m\n\u001b[1;32m    657\u001b[0m \u001b[38;5;28;01mif\u001b[39;00m meth \u001b[38;5;241m==\u001b[39m \u001b[38;5;124m'\u001b[39m\u001b[38;5;124m_custom\u001b[39m\u001b[38;5;124m'\u001b[39m:\n\u001b[1;32m    658\u001b[0m     \u001b[38;5;66;03m# custom method called before bounds and constraints are 'standardised'\u001b[39;00m\n\u001b[1;32m    659\u001b[0m     \u001b[38;5;66;03m# custom method should be able to accept whatever bounds/constraints\u001b[39;00m\n\u001b[1;32m    660\u001b[0m     \u001b[38;5;66;03m# are provided to it.\u001b[39;00m\n\u001b[1;32m    661\u001b[0m     \u001b[38;5;28;01mreturn\u001b[39;00m method(fun, x0, args\u001b[38;5;241m=\u001b[39margs, jac\u001b[38;5;241m=\u001b[39mjac, hess\u001b[38;5;241m=\u001b[39mhess, hessp\u001b[38;5;241m=\u001b[39mhessp,\n\u001b[1;32m    662\u001b[0m                   bounds\u001b[38;5;241m=\u001b[39mbounds, constraints\u001b[38;5;241m=\u001b[39mconstraints,\n\u001b[1;32m    663\u001b[0m                   callback\u001b[38;5;241m=\u001b[39mcallback, \u001b[38;5;241m*\u001b[39m\u001b[38;5;241m*\u001b[39moptions)\n\u001b[0;32m--> 665\u001b[0m constraints \u001b[38;5;241m=\u001b[39m \u001b[43mstandardize_constraints\u001b[49m\u001b[43m(\u001b[49m\u001b[43mconstraints\u001b[49m\u001b[43m,\u001b[49m\u001b[43m \u001b[49m\u001b[43mx0\u001b[49m\u001b[43m,\u001b[49m\u001b[43m \u001b[49m\u001b[43mmeth\u001b[49m\u001b[43m)\u001b[49m\n\u001b[1;32m    667\u001b[0m remove_vars \u001b[38;5;241m=\u001b[39m \u001b[38;5;28;01mFalse\u001b[39;00m\n\u001b[1;32m    668\u001b[0m \u001b[38;5;28;01mif\u001b[39;00m bounds \u001b[38;5;129;01mis\u001b[39;00m \u001b[38;5;129;01mnot\u001b[39;00m \u001b[38;5;28;01mNone\u001b[39;00m:\n\u001b[1;32m    669\u001b[0m     \u001b[38;5;66;03m# convert to new-style bounds so we only have to consider one case\u001b[39;00m\n",
      "File \u001b[0;32m~/opt/miniconda3/envs/heating_and_cooling/lib/python3.10/site-packages/scipy/optimize/_minimize.py:1085\u001b[0m, in \u001b[0;36mstandardize_constraints\u001b[0;34m(constraints, x0, meth)\u001b[0m\n\u001b[1;32m   1083\u001b[0m \u001b[38;5;28;01mfor\u001b[39;00m i, con \u001b[38;5;129;01min\u001b[39;00m \u001b[38;5;28menumerate\u001b[39m(\u001b[38;5;28mlist\u001b[39m(constraints)):\n\u001b[1;32m   1084\u001b[0m     \u001b[38;5;28;01mif\u001b[39;00m \u001b[38;5;28misinstance\u001b[39m(con, new_constraint_types):\n\u001b[0;32m-> 1085\u001b[0m         old_constraints \u001b[38;5;241m=\u001b[39m \u001b[43mnew_constraint_to_old\u001b[49m\u001b[43m(\u001b[49m\u001b[43mcon\u001b[49m\u001b[43m,\u001b[49m\u001b[43m \u001b[49m\u001b[43mx0\u001b[49m\u001b[43m)\u001b[49m\n\u001b[1;32m   1086\u001b[0m         constraints[i] \u001b[38;5;241m=\u001b[39m old_constraints[\u001b[38;5;241m0\u001b[39m]\n\u001b[1;32m   1087\u001b[0m         constraints\u001b[38;5;241m.\u001b[39mextend(old_constraints[\u001b[38;5;241m1\u001b[39m:])  \u001b[38;5;66;03m# appends 1 if present\u001b[39;00m\n",
      "File \u001b[0;32m~/opt/miniconda3/envs/heating_and_cooling/lib/python3.10/site-packages/scipy/optimize/_constraints.py:490\u001b[0m, in \u001b[0;36mnew_constraint_to_old\u001b[0;34m(con, x0)\u001b[0m\n\u001b[1;32m    486\u001b[0m         \u001b[38;5;28;01mreturn\u001b[39;00m A\n\u001b[1;32m    488\u001b[0m \u001b[38;5;66;03m# FIXME: when bugs in VectorFunction/LinearVectorFunction are worked out,\u001b[39;00m\n\u001b[1;32m    489\u001b[0m \u001b[38;5;66;03m# use pcon.fun.fun and pcon.fun.jac. Until then, get fun/jac above.\u001b[39;00m\n\u001b[0;32m--> 490\u001b[0m pcon \u001b[38;5;241m=\u001b[39m \u001b[43mPreparedConstraint\u001b[49m\u001b[43m(\u001b[49m\u001b[43mcon\u001b[49m\u001b[43m,\u001b[49m\u001b[43m \u001b[49m\u001b[43mx0\u001b[49m\u001b[43m)\u001b[49m\n\u001b[1;32m    491\u001b[0m lb, ub \u001b[38;5;241m=\u001b[39m pcon\u001b[38;5;241m.\u001b[39mbounds\n\u001b[1;32m    493\u001b[0m i_eq \u001b[38;5;241m=\u001b[39m lb \u001b[38;5;241m==\u001b[39m ub\n",
      "File \u001b[0;32m~/opt/miniconda3/envs/heating_and_cooling/lib/python3.10/site-packages/scipy/optimize/_constraints.py:342\u001b[0m, in \u001b[0;36mPreparedConstraint.__init__\u001b[0;34m(self, constraint, x0, sparse_jacobian, finite_diff_bounds)\u001b[0m\n\u001b[1;32m    339\u001b[0m \u001b[38;5;28;01mdef\u001b[39;00m\u001b[38;5;250m \u001b[39m\u001b[38;5;21m__init__\u001b[39m(\u001b[38;5;28mself\u001b[39m, constraint, x0, sparse_jacobian\u001b[38;5;241m=\u001b[39m\u001b[38;5;28;01mNone\u001b[39;00m,\n\u001b[1;32m    340\u001b[0m              finite_diff_bounds\u001b[38;5;241m=\u001b[39m(\u001b[38;5;241m-\u001b[39mnp\u001b[38;5;241m.\u001b[39minf, np\u001b[38;5;241m.\u001b[39minf)):\n\u001b[1;32m    341\u001b[0m     \u001b[38;5;28;01mif\u001b[39;00m \u001b[38;5;28misinstance\u001b[39m(constraint, NonlinearConstraint):\n\u001b[0;32m--> 342\u001b[0m         fun \u001b[38;5;241m=\u001b[39m \u001b[43mVectorFunction\u001b[49m\u001b[43m(\u001b[49m\u001b[43mconstraint\u001b[49m\u001b[38;5;241;43m.\u001b[39;49m\u001b[43mfun\u001b[49m\u001b[43m,\u001b[49m\u001b[43m \u001b[49m\u001b[43mx0\u001b[49m\u001b[43m,\u001b[49m\n\u001b[1;32m    343\u001b[0m \u001b[43m                             \u001b[49m\u001b[43mconstraint\u001b[49m\u001b[38;5;241;43m.\u001b[39;49m\u001b[43mjac\u001b[49m\u001b[43m,\u001b[49m\u001b[43m \u001b[49m\u001b[43mconstraint\u001b[49m\u001b[38;5;241;43m.\u001b[39;49m\u001b[43mhess\u001b[49m\u001b[43m,\u001b[49m\n\u001b[1;32m    344\u001b[0m \u001b[43m                             \u001b[49m\u001b[43mconstraint\u001b[49m\u001b[38;5;241;43m.\u001b[39;49m\u001b[43mfinite_diff_rel_step\u001b[49m\u001b[43m,\u001b[49m\n\u001b[1;32m    345\u001b[0m \u001b[43m                             \u001b[49m\u001b[43mconstraint\u001b[49m\u001b[38;5;241;43m.\u001b[39;49m\u001b[43mfinite_diff_jac_sparsity\u001b[49m\u001b[43m,\u001b[49m\n\u001b[1;32m    346\u001b[0m \u001b[43m                             \u001b[49m\u001b[43mfinite_diff_bounds\u001b[49m\u001b[43m,\u001b[49m\u001b[43m \u001b[49m\u001b[43msparse_jacobian\u001b[49m\u001b[43m)\u001b[49m\n\u001b[1;32m    347\u001b[0m     \u001b[38;5;28;01melif\u001b[39;00m \u001b[38;5;28misinstance\u001b[39m(constraint, LinearConstraint):\n\u001b[1;32m    348\u001b[0m         fun \u001b[38;5;241m=\u001b[39m LinearVectorFunction(constraint\u001b[38;5;241m.\u001b[39mA, x0, sparse_jacobian)\n",
      "File \u001b[0;32m~/opt/miniconda3/envs/heating_and_cooling/lib/python3.10/site-packages/scipy/optimize/_differentiable_functions.py:431\u001b[0m, in \u001b[0;36mVectorFunction.__init__\u001b[0;34m(self, fun, x0, jac, hess, finite_diff_rel_step, finite_diff_jac_sparsity, finite_diff_bounds, sparse_jacobian)\u001b[0m\n\u001b[1;32m    428\u001b[0m     \u001b[38;5;28mself\u001b[39m\u001b[38;5;241m.\u001b[39mf \u001b[38;5;241m=\u001b[39m fun_wrapped(\u001b[38;5;28mself\u001b[39m\u001b[38;5;241m.\u001b[39mx)\n\u001b[1;32m    430\u001b[0m \u001b[38;5;28mself\u001b[39m\u001b[38;5;241m.\u001b[39m_update_fun_impl \u001b[38;5;241m=\u001b[39m update_fun\n\u001b[0;32m--> 431\u001b[0m \u001b[43mupdate_fun\u001b[49m\u001b[43m(\u001b[49m\u001b[43m)\u001b[49m\n\u001b[1;32m    433\u001b[0m \u001b[38;5;28mself\u001b[39m\u001b[38;5;241m.\u001b[39mv \u001b[38;5;241m=\u001b[39m np\u001b[38;5;241m.\u001b[39mzeros_like(\u001b[38;5;28mself\u001b[39m\u001b[38;5;241m.\u001b[39mf)\n\u001b[1;32m    434\u001b[0m \u001b[38;5;28mself\u001b[39m\u001b[38;5;241m.\u001b[39mm \u001b[38;5;241m=\u001b[39m \u001b[38;5;28mself\u001b[39m\u001b[38;5;241m.\u001b[39mv\u001b[38;5;241m.\u001b[39msize\n",
      "File \u001b[0;32m~/opt/miniconda3/envs/heating_and_cooling/lib/python3.10/site-packages/scipy/optimize/_differentiable_functions.py:428\u001b[0m, in \u001b[0;36mVectorFunction.__init__.<locals>.update_fun\u001b[0;34m()\u001b[0m\n\u001b[1;32m    427\u001b[0m \u001b[38;5;28;01mdef\u001b[39;00m\u001b[38;5;250m \u001b[39m\u001b[38;5;21mupdate_fun\u001b[39m():\n\u001b[0;32m--> 428\u001b[0m     \u001b[38;5;28mself\u001b[39m\u001b[38;5;241m.\u001b[39mf \u001b[38;5;241m=\u001b[39m \u001b[43mfun_wrapped\u001b[49m\u001b[43m(\u001b[49m\u001b[38;5;28;43mself\u001b[39;49m\u001b[38;5;241;43m.\u001b[39;49m\u001b[43mx\u001b[49m\u001b[43m)\u001b[49m\n",
      "File \u001b[0;32m~/opt/miniconda3/envs/heating_and_cooling/lib/python3.10/site-packages/scipy/optimize/_differentiable_functions.py:425\u001b[0m, in \u001b[0;36mVectorFunction.__init__.<locals>.fun_wrapped\u001b[0;34m(x)\u001b[0m\n\u001b[1;32m    423\u001b[0m \u001b[38;5;28;01mdef\u001b[39;00m\u001b[38;5;250m \u001b[39m\u001b[38;5;21mfun_wrapped\u001b[39m(x):\n\u001b[1;32m    424\u001b[0m     \u001b[38;5;28mself\u001b[39m\u001b[38;5;241m.\u001b[39mnfev \u001b[38;5;241m+\u001b[39m\u001b[38;5;241m=\u001b[39m \u001b[38;5;241m1\u001b[39m\n\u001b[0;32m--> 425\u001b[0m     \u001b[38;5;28;01mreturn\u001b[39;00m np\u001b[38;5;241m.\u001b[39matleast_1d(\u001b[43mfun\u001b[49m\u001b[43m(\u001b[49m\u001b[43mx\u001b[49m\u001b[43m)\u001b[49m)\n",
      "Cell \u001b[0;32mIn[8], line 5\u001b[0m, in \u001b[0;36mpinch_evap\u001b[0;34m(param)\u001b[0m\n\u001b[1;32m      2\u001b[0m T_co,T_ev\u001b[38;5;241m=\u001b[39mparam\n\u001b[1;32m      3\u001b[0m \u001b[38;5;66;03m#thermodynamic states of the heat pump process\u001b[39;00m\n\u001b[1;32m      4\u001b[0m \u001b[38;5;66;03m#state 1*: evaporator: T1=T_ev and x1=1.0 (saturated vapor)\u001b[39;00m\n\u001b[0;32m----> 5\u001b[0m state1_sat\u001b[38;5;241m=\u001b[39m\u001b[43mFCP\u001b[49m\u001b[38;5;241;43m.\u001b[39;49m\u001b[43mstate\u001b[49m\u001b[43m(\u001b[49m\u001b[43m[\u001b[49m\u001b[38;5;124;43m\"\u001b[39;49m\u001b[38;5;124;43mT\u001b[39;49m\u001b[38;5;124;43m\"\u001b[39;49m\u001b[43m,\u001b[49m\u001b[38;5;124;43m\"\u001b[39;49m\u001b[38;5;124;43mx\u001b[39;49m\u001b[38;5;124;43m\"\u001b[39;49m\u001b[43m]\u001b[49m\u001b[43m,\u001b[49m\u001b[43m[\u001b[49m\u001b[43mT_ev\u001b[49m\u001b[43m,\u001b[49m\u001b[38;5;241;43m1.0\u001b[39;49m\u001b[43m]\u001b[49m\u001b[43m,\u001b[49m\u001b[43mfluid\u001b[49m\u001b[43m,\u001b[49m\u001b[43mEh\u001b[49m\u001b[43m)\u001b[49m\n\u001b[1;32m      6\u001b[0m \u001b[38;5;66;03m#state 1: outlet evaporator: T1=T_ev+delta_T_sh and p1=p1_sat\u001b[39;00m\n\u001b[1;32m      7\u001b[0m \u001b[38;5;28;01mif\u001b[39;00m delta_T_sh\u001b[38;5;241m>\u001b[39m\u001b[38;5;241m0.\u001b[39m:\n",
      "File \u001b[0;32m~/Desktop/Sustainable Heating and Cooling/Project/SHC_project/Fluid_CP.py:103\u001b[0m, in \u001b[0;36mstate\u001b[0;34m(Var, In, fluid, Eh)\u001b[0m\n\u001b[1;32m    101\u001b[0m         T\u001b[38;5;241m=\u001b[39mIn[\u001b[38;5;241m0\u001b[39m]\n\u001b[1;32m    102\u001b[0m         x\u001b[38;5;241m=\u001b[39mIn[\u001b[38;5;241m1\u001b[39m]\n\u001b[0;32m--> 103\u001b[0m     h\u001b[38;5;241m=\u001b[39m\u001b[43mCP\u001b[49m\u001b[38;5;241m.\u001b[39mPropsSI(\u001b[38;5;124m\"\u001b[39m\u001b[38;5;124mH\u001b[39m\u001b[38;5;124m\"\u001b[39m,\u001b[38;5;124m\"\u001b[39m\u001b[38;5;124mT\u001b[39m\u001b[38;5;124m\"\u001b[39m,T,\u001b[38;5;124m\"\u001b[39m\u001b[38;5;124mQ\u001b[39m\u001b[38;5;124m\"\u001b[39m,x,fluid)\n\u001b[1;32m    104\u001b[0m     p\u001b[38;5;241m=\u001b[39mCP\u001b[38;5;241m.\u001b[39mPropsSI(\u001b[38;5;124m\"\u001b[39m\u001b[38;5;124mP\u001b[39m\u001b[38;5;124m\"\u001b[39m,\u001b[38;5;124m\"\u001b[39m\u001b[38;5;124mT\u001b[39m\u001b[38;5;124m\"\u001b[39m,T,\u001b[38;5;124m\"\u001b[39m\u001b[38;5;124mQ\u001b[39m\u001b[38;5;124m\"\u001b[39m,x,fluid)\n\u001b[1;32m    105\u001b[0m \u001b[38;5;66;03m# x and T\u001b[39;00m\n",
      "\u001b[0;31mNameError\u001b[0m: name 'CP' is not defined"
     ]
    }
   ],
   "source": [
    "#Define an appropriate initial guess (starting point).\n",
    "T_co_start=40. #°C\n",
    "T_ev_start=-5. #°C\n",
    "#Use minimize to optimize the COP\n",
    "Opti=minimize(calc_COP,x0=[T_co_start,T_ev_start],method='SLSQP',bounds=bounds,constraints=NCs)\n",
    "#Check if the optimization terminated successfull and print the COP\n",
    "print(\"Success optimization=\",Opti.success)\n",
    "COP=1./calc_COP(Opti.x)\n",
    "print(\"optimized COP = \",round(COP,2))\n",
    "#Print the optimized evaporator and condenser temperature: T_ev_op, T_co_op\n",
    "T_ev_op=Opti.x[1]\n",
    "T_co_op=Opti.x[0]\n",
    "print(\"optimized condensation temperature= \",round(T_co_op,2),\"°C\")\n",
    "print(\"optimized evaporation temperature= \",round(T_ev_op,2),\"°C\")"
   ]
  },
  {
   "cell_type": "markdown",
   "id": "96826274",
   "metadata": {},
   "source": [
    "### Post-processing \n"
   ]
  },
  {
   "cell_type": "code",
   "execution_count": null,
   "id": "a407973a",
   "metadata": {},
   "outputs": [
    {
     "ename": "NameError",
     "evalue": "name 'T_ev_op' is not defined",
     "output_type": "error",
     "traceback": [
      "\u001b[0;31m---------------------------------------------------------------------------\u001b[0m",
      "\u001b[0;31mNameError\u001b[0m                                 Traceback (most recent call last)",
      "Cell \u001b[0;32mIn[17], line 3\u001b[0m\n\u001b[1;32m      1\u001b[0m \u001b[38;5;66;03m#thermodynamic states of the heat pump process as a function of the optimal evaporation and condensation temperatures\u001b[39;00m\n\u001b[1;32m      2\u001b[0m \u001b[38;5;66;03m#state1_sat_op: evaporator: T1=T_ev_op and x1=1.0 (saturated vapor)\u001b[39;00m\n\u001b[0;32m----> 3\u001b[0m state1_sat_op\u001b[38;5;241m=\u001b[39mFCP\u001b[38;5;241m.\u001b[39mstate([\u001b[38;5;124m\"\u001b[39m\u001b[38;5;124mT\u001b[39m\u001b[38;5;124m\"\u001b[39m,\u001b[38;5;124m\"\u001b[39m\u001b[38;5;124mx\u001b[39m\u001b[38;5;124m\"\u001b[39m],[\u001b[43mT_ev_op\u001b[49m,\u001b[38;5;241m1.0\u001b[39m],fluid,Eh)\n\u001b[1;32m      4\u001b[0m \u001b[38;5;66;03m#state1_op: outlet evaporator: T1=T_ev_op+delta_T_sh and p1=p1_sat\u001b[39;00m\n\u001b[1;32m      5\u001b[0m \u001b[38;5;28;01mif\u001b[39;00m delta_T_sh\u001b[38;5;241m>\u001b[39m\u001b[38;5;241m0.\u001b[39m:\n",
      "\u001b[0;31mNameError\u001b[0m: name 'T_ev_op' is not defined"
     ]
    }
   ],
   "source": [
    "#thermodynamic states of the heat pump process as a function of the optimal evaporation and condensation temperatures\n",
    "#state1_sat_op: evaporator: T1=T_ev_op and x1=1.0 (saturated vapor)\n",
    "state1_sat_op=FCP.state([\"T\",\"x\"],[T_ev_op,1.0],fluid,Eh)\n",
    "#state1_op: outlet evaporator: T1=T_ev_op+delta_T_sh and p1=p1_sat\n",
    "if delta_T_sh>0.:\n",
    "    state1_op=FCP.state([\"T\",\"p\"],[T_ev_op+delta_T_sh,state1_sat_op[\"p\"]],fluid,Eh)\n",
    "else:\n",
    "    state1_op=state1_sat\n",
    "\n",
    "#state3_sat_op: outlet condenser: T3=T_co_op and x3=0.0 (boiling liquid)\n",
    "state3_sat_op=FCP.state([\"T\",\"x\"],[T_co_op,0.0],fluid,Eh)\n",
    "#state3_op: outlet condenser: T3=T_co_op-delta_T_sc and p3=p3_stat\n",
    "state3_op=FCP.state([\"T\",\"p\"],[T_co_op-delta_T_sc,state3_sat_op[\"p\"]],fluid,Eh)\n",
    "\n",
    "#state2s_op: isentropic compressor: p2s=p_co=p3 and s2s=s1 \n",
    "state2s_op=FCP.state([\"p\",\"s\"],[state3_op[\"p\"],state1_op[\"s\"]],fluid,Eh)\n",
    "#enthalpy h2 is calulated using the compressor efficiency eta_is\n",
    "h2_op=state1_op[\"h\"]+(state2s_op[\"h\"]-state1_op[\"h\"])/eta_is\n",
    "#state2_op: outlet compressor: p2=p_co=p3 and h2\n",
    "state2_op=FCP.state([\"p\",\"h\"],[state3_op[\"p\"],h2_op],fluid,Eh)\n",
    "#state4_op: outlet throttle: p4=p_ev=p1 and h4=h3 (isenthalpic throttle)\n",
    "state4_op=FCP.state([\"p\",\"h\"],[state1_op[\"p\"],state3_op[\"h\"]],fluid,Eh)"
   ]
  },
  {
   "cell_type": "code",
   "execution_count": null,
   "id": "ea54ced7",
   "metadata": {},
   "outputs": [],
   "source": [
    "Diag.Th(state1_op,state2_op,state3_op,state4_op,[T_si_in,T_si_out],[T_so_in,T_so_out],fluid,Eh)"
   ]
  },
  {
   "cell_type": "code",
   "execution_count": null,
   "id": "8edcf658",
   "metadata": {},
   "outputs": [],
   "source": [
    "#evaporator\n",
    "delta_T_pinch_ev=pinch_evap([T_co_op,T_ev_op])\n",
    "print(\"Pinch evaporator (optimized): delta_T_pinch_v=\",round(min(delta_T_pinch_ev[0],delta_T_pinch_ev[1]),4),\"K\")\n",
    "print(delta_T_pinch_ev)\n",
    "#condenser\n",
    "delta_T_pinch_co=pinch_con([T_co_op,T_ev_op])\n",
    "print(delta_T_pinch_co)\n",
    "print(\"Pinch condenser (optimized): delta_T_pinch_c=\",round(min(delta_T_pinch_co[0],delta_T_pinch_co[1],delta_T_pinch_co[2]),4),\"K\")"
   ]
  }
 ],
 "metadata": {
  "kernelspec": {
   "display_name": "heating_and_cooling",
   "language": "python",
   "name": "python3"
  },
  "language_info": {
   "codemirror_mode": {
    "name": "ipython",
    "version": 3
   },
   "file_extension": ".py",
   "mimetype": "text/x-python",
   "name": "python",
   "nbconvert_exporter": "python",
   "pygments_lexer": "ipython3",
   "version": "3.10.16"
  }
 },
 "nbformat": 4,
 "nbformat_minor": 5
}
