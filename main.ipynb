{
 "cells": [
  {
   "cell_type": "code",
   "execution_count": 2,
   "id": "5b6852d8",
   "metadata": {},
   "outputs": [],
   "source": [
    "# imports\n",
    "\n",
    "import numpy as np\n",
    "import pandas as pd\n",
    "import matplotlib.pyplot as plt\n",
    "import CoolProp.CoolProp as CP\n",
    "import src.Fluid_CP as FCP\n",
    "import src.Compressormodel_SP as CSP"
   ]
  },
  {
   "cell_type": "markdown",
   "id": "b75b8308",
   "metadata": {},
   "source": [
    "**Assumptions**\n",
    "\n",
    "- water basin and pasta can be modelled as 0D --> no temperature gradients inside water and pasta\n",
    "\n",
    "- temperatures and pressure dependency of the properties of water and the pasta can be neglected\n",
    "\n",
    "- subcritical heat pump process\n",
    "\n",
    "- The pasta water is the heat sink\n",
    "\n",
    "- Make sure the heat pump meets usual technical constraints (e.g., superheating) and is \n",
    "in COP-optimal operation at each point in time. \n"
   ]
  },
  {
   "cell_type": "code",
   "execution_count": null,
   "id": "4f21f58d",
   "metadata": {},
   "outputs": [],
   "source": [
    "# parameters\n",
    "\n",
    "## basin geometry\n",
    "\n",
    "\n",
    "\n",
    "## cooking pasta\n",
    "\n",
    "Tw_morning = 20 #degree Celsius\n",
    "\n",
    "Tp_before = 7 #degree celsius\n",
    "\n",
    "P_batch = 2 # kg --> 0.5 kg per basket\n",
    "\n",
    "tc = 7 #minutes --> pasta is cooked for 7 minutes per batch\n",
    "\n",
    "Tp_after = 85 #degree celsius\n",
    "\n",
    "tb = 5 #minutes --> time between cooking batches\n",
    "\n",
    "Tw_op_min = 85 #degree celsius --> minimal temperature during cooking\n",
    "\n",
    "Tw_op_max = 93 #degree celsius --> maximal temperature during cooking\n",
    "\n",
    "## other\n",
    "\n",
    "R_env_w = 30 #K/kW --> evaporation of the cooking  water is neglected\n",
    "\n",
    "R_p_w = 15 #K/kW \n",
    "\n",
    "c_pw = 4.18 #kj/kgK\n",
    "\n",
    "c_pp = 3.5 #kj/kgK\n",
    "\n",
    "## heatpump process\n",
    "\n",
    "Tamb = 20 #degree celsius --> air temperature in cross flow\n",
    "\n",
    "## compressor\n",
    "\n",
    "D = [35,40,45,50] #possible compressor sizes in mm\n",
    "\n",
    "## Heat exchanger\n",
    "\n",
    "d_outer = 6.35 #mm\n",
    "\n",
    "d_inner = 5.55 #mm\n",
    "\n",
    "## Heat transfer coefficients\n",
    "\n",
    "h_r_li = 1000 #W/(m^2*K)\n",
    "\n",
    "h_r_2ph = 2000 #W/(m^2*K)\n",
    "\n",
    "h_r_va = 200 #W/(m^2*K)\n",
    "\n",
    "h_w = 1000 #W/(m^2*K)\n"
   ]
  },
  {
   "cell_type": "code",
   "execution_count": 4,
   "id": "326f3d96",
   "metadata": {},
   "outputs": [],
   "source": [
    "# empirical calculation of resulting heatpump COP\n",
    "\n",
    "def COP_res(COP_inner, Q_demand, Q_heatpump):\n",
    "    return COP_inner * ((Q_demand / Q_heatpump) / 0.9*(Q_demand / Q_heatpump) + 0.1)\n",
    "\n"
   ]
  },
  {
   "cell_type": "code",
   "execution_count": null,
   "id": "93283909",
   "metadata": {},
   "outputs": [],
   "source": []
  }
 ],
 "metadata": {
  "kernelspec": {
   "display_name": "thermo",
   "language": "python",
   "name": "python3"
  },
  "language_info": {
   "codemirror_mode": {
    "name": "ipython",
    "version": 3
   },
   "file_extension": ".py",
   "mimetype": "text/x-python",
   "name": "python",
   "nbconvert_exporter": "python",
   "pygments_lexer": "ipython3",
   "version": "3.8.20"
  }
 },
 "nbformat": 4,
 "nbformat_minor": 5
}
