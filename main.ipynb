{
 "cells": [
  {
   "cell_type": "code",
   "execution_count": 8,
   "id": "5b6852d8",
   "metadata": {},
   "outputs": [],
   "source": [
    "# imports\n",
    "\n",
    "import numpy as np\n",
    "import pandas as pd\n",
    "import matplotlib.pyplot as plt\n",
    "import CoolProp.CoolProp as CP\n",
    "import src.Fluid_CP as FCP\n",
    "import src.Compressormodel_SP as CSP"
   ]
  },
  {
   "cell_type": "code",
   "execution_count": null,
   "id": "4f21f58d",
   "metadata": {},
   "outputs": [],
   "source": [
    "# parameters\n",
    "\n",
    "## cooking pasta\n",
    "\n",
    "Tw_morning = 20 #degree Celsius\n",
    "\n",
    "Tp_before = 7 #degree celsius\n",
    "\n",
    "P_batch = 2 # kg --> 0.5 kg per basket\n",
    "\n",
    "tc = 7 #minutes --> pasta is cooked for 7 minutes per batch\n",
    "\n",
    "Tp_after = 85 #degree celsius\n",
    "\n",
    "tb = 5 #minutes --> time between cooking batches\n",
    "\n",
    "Tw_op_min = 85 #degree celsius --> minimal temperature during cooking\n",
    "\n",
    "Tw_op_max = 93 #degree celsius --> maximal temperature during cooking\n",
    "\n",
    "## other\n",
    "\n",
    "\n",
    "\n",
    "\n"
   ]
  }
 ],
 "metadata": {
  "kernelspec": {
   "display_name": "thermo",
   "language": "python",
   "name": "python3"
  },
  "language_info": {
   "codemirror_mode": {
    "name": "ipython",
    "version": 3
   },
   "file_extension": ".py",
   "mimetype": "text/x-python",
   "name": "python",
   "nbconvert_exporter": "python",
   "pygments_lexer": "ipython3",
   "version": "3.8.20"
  }
 },
 "nbformat": 4,
 "nbformat_minor": 5
}
